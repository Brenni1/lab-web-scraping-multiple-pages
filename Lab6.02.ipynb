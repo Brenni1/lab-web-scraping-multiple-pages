{
 "cells": [
  {
   "cell_type": "code",
   "execution_count": 4,
   "metadata": {},
   "outputs": [],
   "source": [
    "from bs4 import BeautifulSoup\n",
    "import requests\n",
    "import pandas as pd"
   ]
  },
  {
   "cell_type": "code",
   "execution_count": 5,
   "metadata": {},
   "outputs": [],
   "source": [
    "#find url and store it in a variable\n",
    "url = \"https://de.wikipedia.org/wiki/Die_500_besten_Songs_aller_Zeiten_(Rolling_Stone)\""
   ]
  },
  {
   "cell_type": "code",
   "execution_count": 6,
   "metadata": {},
   "outputs": [
    {
     "data": {
      "text/plain": [
       "200"
      ]
     },
     "execution_count": 6,
     "metadata": {},
     "output_type": "execute_result"
    }
   ],
   "source": [
    "#download html with a get request\n",
    "response = requests.get(url)\n",
    "response.status_code "
   ]
  },
  {
   "cell_type": "code",
   "execution_count": 7,
   "metadata": {},
   "outputs": [],
   "source": [
    "#parse html (create the 'soup')\n",
    "soup = BeautifulSoup(response.content, \"html.parser\")"
   ]
  },
  {
   "cell_type": "code",
   "execution_count": 8,
   "metadata": {},
   "outputs": [
    {
     "name": "stdout",
     "output_type": "stream",
     "text": [
      "Like a Rolling Stone\n",
      "\n"
     ]
    }
   ],
   "source": [
    "for title in soup.select('#mw-content-text > div.mw-parser-output > table > tbody > tr:nth-child(3) > td:nth-child(3)'):\n",
    "    print(title.get_text())\n",
    "\n"
   ]
  },
  {
   "cell_type": "code",
   "execution_count": 10,
   "metadata": {},
   "outputs": [
    {
     "name": "stdout",
     "output_type": "stream",
     "text": [
      "Bob Dylan\n",
      "\n"
     ]
    }
   ],
   "source": [
    "for artist in soup.select('#mw-content-text > div.mw-parser-output > table > tbody > tr:nth-child(3) > td:nth-child(4)'):\n",
    "    print(artist.get_text())\n",
    "\n"
   ]
  },
  {
   "cell_type": "code",
   "execution_count": 11,
   "metadata": {},
   "outputs": [
    {
     "name": "stdout",
     "output_type": "stream",
     "text": [
      "Bob Dylan\n",
      "The Rolling Stones\n",
      "John Lennon\n",
      "Marvin Gaye\n",
      "Aretha Franklin\n",
      "The Beach Boys\n",
      "Chuck Berry\n",
      "The Beatles\n",
      "Nirvana\n",
      "Ray Charles\n",
      "The Who\n",
      "Sam Cooke\n",
      "The Beatles\n",
      "Bob Dylan\n",
      "The Clash\n",
      "The Beatles\n",
      "The Jimi Hendrix Experience\n",
      "Chuck Berry\n",
      "Elvis Presley\n",
      "The Beatles\n",
      "Bruce Springsteen\n",
      "The Ronettes\n",
      "The Beatles\n",
      "The Impressions\n",
      "The Beach Boys\n",
      "Otis Redding\n",
      "Derek and the Dominos\n",
      "The Beatles\n",
      "The Beatles\n",
      "Johnny Cash\n",
      "Led Zeppelin\n",
      "The Rolling Stones\n",
      "Ike & Tina Turner\n",
      "The Righteous Brothers\n",
      "The Doors\n",
      "U2\n",
      "Bob Marley\n",
      "The Rolling Stones\n",
      "Buddy Holly\n",
      "the Crickets\n",
      "Martha Reeves and the Vandellas\n",
      "The Band\n",
      "The Kinks\n",
      "Little Richard\n",
      "Ray Charles\n",
      "Elvis Presley\n",
      "David Bowie\n",
      "The Jimi Hendrix Experience\n",
      "Simon & Garfunkel\n",
      "The Eagles\n",
      "Smokey Robinson\n",
      "the Miracles\n",
      "Grandmaster Flash & the Furious Five\n",
      "Prince\n",
      "Percy Sledge\n",
      "The Kingsmen\n",
      "Little Richard\n",
      "Sex Pistols\n",
      "Procol Harum\n",
      "Michael Jackson\n",
      "Bob Dylan\n",
      "Al Green\n",
      "Jerry Lee Lewis\n",
      "Bo Diddley\n",
      "Buffalo Springfield\n",
      "The Beatles\n",
      "Cream\n",
      "Bob Marley and the Wailers\n",
      "Elvis Presley\n",
      "Bob Dylan\n",
      "Roy Orbison\n",
      "Dionne Warwick\n",
      "James Brown\n",
      "The Beach Boys\n",
      "Stevie Wonder\n",
      "Eddie Cochran\n",
      "Led Zeppelin\n",
      "The Beatles\n",
      "Elvis Presley\n",
      "James Brown\n",
      "The Byrds\n",
      "The Kinks\n",
      "Marvin Gaye\n",
      "Fats Domino\n",
      "The Beatles\n",
      "The Police\n",
      "Patsy Cline\n",
      "Bruce Springsteen\n",
      "Johnny Cash\n",
      "The Temptations\n",
      "The Mamas and the Papas\n",
      "The Five Satins\n",
      "Elvis Presley\n",
      "Ramones\n",
      "U2\n",
      "Little Richard\n",
      "Carl Perkins\n",
      "Jerry Lee Lewis\n",
      "Chuck Berry\n",
      "Al Green\n",
      "Creedence Clearwater Revival\n",
      "Gnarls Barkley\n",
      "The Rolling Stones\n"
     ]
    }
   ],
   "source": [
    "for artist in soup.select('#mw-content-text > div.mw-parser-output > table > tbody > tr > td:nth-child(4)> a'):\n",
    "    print(artist.get_text())\n"
   ]
  },
  {
   "cell_type": "code",
   "execution_count": 12,
   "metadata": {},
   "outputs": [],
   "source": [
    "artists = []\n",
    "for artist in soup.select('#mw-content-text > div.mw-parser-output > table > tbody > tr > td:nth-child(4)> a'):\n",
    "    artists.append(artist.get_text())"
   ]
  },
  {
   "cell_type": "code",
   "execution_count": 13,
   "metadata": {},
   "outputs": [],
   "source": [
    "songs = []\n",
    "for song in soup.select('#mw-content-text > div.mw-parser-output > table > tbody > tr > td:nth-child(3)> a'):\n",
    "    songs.append(song.get_text())"
   ]
  },
  {
   "cell_type": "code",
   "execution_count": 14,
   "metadata": {},
   "outputs": [],
   "source": [
    "df1 = pd.DataFrame(artists, columns=['Artist'])"
   ]
  },
  {
   "cell_type": "code",
   "execution_count": 15,
   "metadata": {},
   "outputs": [],
   "source": [
    "df2 = pd.DataFrame(songs, columns=['Song'])"
   ]
  },
  {
   "cell_type": "code",
   "execution_count": 16,
   "metadata": {},
   "outputs": [
    {
     "data": {
      "text/html": [
       "<div>\n",
       "<style scoped>\n",
       "    .dataframe tbody tr th:only-of-type {\n",
       "        vertical-align: middle;\n",
       "    }\n",
       "\n",
       "    .dataframe tbody tr th {\n",
       "        vertical-align: top;\n",
       "    }\n",
       "\n",
       "    .dataframe thead th {\n",
       "        text-align: right;\n",
       "    }\n",
       "</style>\n",
       "<table border=\"1\" class=\"dataframe\">\n",
       "  <thead>\n",
       "    <tr style=\"text-align: right;\">\n",
       "      <th></th>\n",
       "      <th>Artist</th>\n",
       "      <th>Song</th>\n",
       "    </tr>\n",
       "  </thead>\n",
       "  <tbody>\n",
       "    <tr>\n",
       "      <th>0</th>\n",
       "      <td>Bob Dylan</td>\n",
       "      <td>Like a Rolling Stone</td>\n",
       "    </tr>\n",
       "    <tr>\n",
       "      <th>1</th>\n",
       "      <td>The Rolling Stones</td>\n",
       "      <td>(I Can’t Get No) Satisfaction</td>\n",
       "    </tr>\n",
       "    <tr>\n",
       "      <th>2</th>\n",
       "      <td>John Lennon</td>\n",
       "      <td>Imagine</td>\n",
       "    </tr>\n",
       "    <tr>\n",
       "      <th>3</th>\n",
       "      <td>Marvin Gaye</td>\n",
       "      <td>Respect</td>\n",
       "    </tr>\n",
       "    <tr>\n",
       "      <th>4</th>\n",
       "      <td>Aretha Franklin</td>\n",
       "      <td>Good Vibrations</td>\n",
       "    </tr>\n",
       "    <tr>\n",
       "      <th>5</th>\n",
       "      <td>The Beach Boys</td>\n",
       "      <td>Johnny B. Goode</td>\n",
       "    </tr>\n",
       "    <tr>\n",
       "      <th>6</th>\n",
       "      <td>Chuck Berry</td>\n",
       "      <td>Hey Jude</td>\n",
       "    </tr>\n",
       "    <tr>\n",
       "      <th>7</th>\n",
       "      <td>The Beatles</td>\n",
       "      <td>Smells Like Teen Spirit</td>\n",
       "    </tr>\n",
       "    <tr>\n",
       "      <th>8</th>\n",
       "      <td>Nirvana</td>\n",
       "      <td>What’d I Say</td>\n",
       "    </tr>\n",
       "    <tr>\n",
       "      <th>9</th>\n",
       "      <td>Ray Charles</td>\n",
       "      <td>My Generation</td>\n",
       "    </tr>\n",
       "    <tr>\n",
       "      <th>10</th>\n",
       "      <td>The Who</td>\n",
       "      <td>A Change Is Gonna Come</td>\n",
       "    </tr>\n",
       "    <tr>\n",
       "      <th>11</th>\n",
       "      <td>Sam Cooke</td>\n",
       "      <td>Yesterday</td>\n",
       "    </tr>\n",
       "    <tr>\n",
       "      <th>12</th>\n",
       "      <td>The Beatles</td>\n",
       "      <td>Blowin’ in the Wind</td>\n",
       "    </tr>\n",
       "    <tr>\n",
       "      <th>13</th>\n",
       "      <td>Bob Dylan</td>\n",
       "      <td>London Calling</td>\n",
       "    </tr>\n",
       "    <tr>\n",
       "      <th>14</th>\n",
       "      <td>The Clash</td>\n",
       "      <td>I Want to Hold Your Hand</td>\n",
       "    </tr>\n",
       "    <tr>\n",
       "      <th>15</th>\n",
       "      <td>The Beatles</td>\n",
       "      <td>Purple Haze</td>\n",
       "    </tr>\n",
       "    <tr>\n",
       "      <th>16</th>\n",
       "      <td>The Jimi Hendrix Experience</td>\n",
       "      <td>Hound Dog</td>\n",
       "    </tr>\n",
       "    <tr>\n",
       "      <th>17</th>\n",
       "      <td>Chuck Berry</td>\n",
       "      <td>Let It Be</td>\n",
       "    </tr>\n",
       "    <tr>\n",
       "      <th>18</th>\n",
       "      <td>Elvis Presley</td>\n",
       "      <td>Born to Run</td>\n",
       "    </tr>\n",
       "    <tr>\n",
       "      <th>19</th>\n",
       "      <td>The Beatles</td>\n",
       "      <td>Be My Baby</td>\n",
       "    </tr>\n",
       "    <tr>\n",
       "      <th>20</th>\n",
       "      <td>Bruce Springsteen</td>\n",
       "      <td>In My Life</td>\n",
       "    </tr>\n",
       "    <tr>\n",
       "      <th>21</th>\n",
       "      <td>The Ronettes</td>\n",
       "      <td>God Only Knows</td>\n",
       "    </tr>\n",
       "    <tr>\n",
       "      <th>22</th>\n",
       "      <td>The Beatles</td>\n",
       "      <td>(Sittin’ On) The Dock of the Bay</td>\n",
       "    </tr>\n",
       "    <tr>\n",
       "      <th>23</th>\n",
       "      <td>The Impressions</td>\n",
       "      <td>Layla</td>\n",
       "    </tr>\n",
       "    <tr>\n",
       "      <th>24</th>\n",
       "      <td>The Beach Boys</td>\n",
       "      <td>A Day in the Life</td>\n",
       "    </tr>\n",
       "    <tr>\n",
       "      <th>25</th>\n",
       "      <td>Otis Redding</td>\n",
       "      <td>Help!</td>\n",
       "    </tr>\n",
       "    <tr>\n",
       "      <th>26</th>\n",
       "      <td>Derek and the Dominos</td>\n",
       "      <td>I Walk the Line</td>\n",
       "    </tr>\n",
       "    <tr>\n",
       "      <th>27</th>\n",
       "      <td>The Beatles</td>\n",
       "      <td>Stairway to Heaven</td>\n",
       "    </tr>\n",
       "    <tr>\n",
       "      <th>28</th>\n",
       "      <td>The Beatles</td>\n",
       "      <td>Sympathy for the Devil</td>\n",
       "    </tr>\n",
       "    <tr>\n",
       "      <th>29</th>\n",
       "      <td>Johnny Cash</td>\n",
       "      <td>You’ve Lost That Lovin’ Feelin’</td>\n",
       "    </tr>\n",
       "    <tr>\n",
       "      <th>30</th>\n",
       "      <td>Led Zeppelin</td>\n",
       "      <td>Light My Fire</td>\n",
       "    </tr>\n",
       "    <tr>\n",
       "      <th>31</th>\n",
       "      <td>The Rolling Stones</td>\n",
       "      <td>One</td>\n",
       "    </tr>\n",
       "    <tr>\n",
       "      <th>32</th>\n",
       "      <td>Ike &amp; Tina Turner</td>\n",
       "      <td>No Woman, No Cry</td>\n",
       "    </tr>\n",
       "    <tr>\n",
       "      <th>33</th>\n",
       "      <td>The Righteous Brothers</td>\n",
       "      <td>Gimme Shelter</td>\n",
       "    </tr>\n",
       "    <tr>\n",
       "      <th>34</th>\n",
       "      <td>The Doors</td>\n",
       "      <td>Dancing in the Street</td>\n",
       "    </tr>\n",
       "    <tr>\n",
       "      <th>35</th>\n",
       "      <td>U2</td>\n",
       "      <td>The Weight</td>\n",
       "    </tr>\n",
       "    <tr>\n",
       "      <th>36</th>\n",
       "      <td>Bob Marley</td>\n",
       "      <td>Waterloo Sunset</td>\n",
       "    </tr>\n",
       "    <tr>\n",
       "      <th>37</th>\n",
       "      <td>The Rolling Stones</td>\n",
       "      <td>Tutti-Frutti</td>\n",
       "    </tr>\n",
       "    <tr>\n",
       "      <th>38</th>\n",
       "      <td>Buddy Holly</td>\n",
       "      <td>Georgia on My Mind</td>\n",
       "    </tr>\n",
       "    <tr>\n",
       "      <th>39</th>\n",
       "      <td>the Crickets</td>\n",
       "      <td>Heartbreak Hotel</td>\n",
       "    </tr>\n",
       "    <tr>\n",
       "      <th>40</th>\n",
       "      <td>Martha Reeves and the Vandellas</td>\n",
       "      <td>\"Heroes\"</td>\n",
       "    </tr>\n",
       "    <tr>\n",
       "      <th>41</th>\n",
       "      <td>The Band</td>\n",
       "      <td>All Along the Watchtower</td>\n",
       "    </tr>\n",
       "    <tr>\n",
       "      <th>42</th>\n",
       "      <td>The Kinks</td>\n",
       "      <td>Bridge over Troubled Water</td>\n",
       "    </tr>\n",
       "    <tr>\n",
       "      <th>43</th>\n",
       "      <td>Little Richard</td>\n",
       "      <td>Hotel California</td>\n",
       "    </tr>\n",
       "    <tr>\n",
       "      <th>44</th>\n",
       "      <td>Ray Charles</td>\n",
       "      <td>The Message</td>\n",
       "    </tr>\n",
       "    <tr>\n",
       "      <th>45</th>\n",
       "      <td>Elvis Presley</td>\n",
       "      <td>When Doves Cry</td>\n",
       "    </tr>\n",
       "    <tr>\n",
       "      <th>46</th>\n",
       "      <td>David Bowie</td>\n",
       "      <td>When a Man Loves a Woman</td>\n",
       "    </tr>\n",
       "    <tr>\n",
       "      <th>47</th>\n",
       "      <td>The Jimi Hendrix Experience</td>\n",
       "      <td>Louie Louie</td>\n",
       "    </tr>\n",
       "    <tr>\n",
       "      <th>48</th>\n",
       "      <td>Simon &amp; Garfunkel</td>\n",
       "      <td>Long Tall Sally</td>\n",
       "    </tr>\n",
       "    <tr>\n",
       "      <th>49</th>\n",
       "      <td>The Eagles</td>\n",
       "      <td>Anarchy in the U. K.</td>\n",
       "    </tr>\n",
       "  </tbody>\n",
       "</table>\n",
       "</div>"
      ],
      "text/plain": [
       "                             Artist                              Song\n",
       "0                         Bob Dylan              Like a Rolling Stone\n",
       "1                The Rolling Stones     (I Can’t Get No) Satisfaction\n",
       "2                       John Lennon                           Imagine\n",
       "3                       Marvin Gaye                           Respect\n",
       "4                   Aretha Franklin                   Good Vibrations\n",
       "5                    The Beach Boys                   Johnny B. Goode\n",
       "6                       Chuck Berry                          Hey Jude\n",
       "7                       The Beatles           Smells Like Teen Spirit\n",
       "8                           Nirvana                      What’d I Say\n",
       "9                       Ray Charles                     My Generation\n",
       "10                          The Who            A Change Is Gonna Come\n",
       "11                        Sam Cooke                         Yesterday\n",
       "12                      The Beatles               Blowin’ in the Wind\n",
       "13                        Bob Dylan                    London Calling\n",
       "14                        The Clash          I Want to Hold Your Hand\n",
       "15                      The Beatles                       Purple Haze\n",
       "16      The Jimi Hendrix Experience                         Hound Dog\n",
       "17                      Chuck Berry                         Let It Be\n",
       "18                    Elvis Presley                       Born to Run\n",
       "19                      The Beatles                        Be My Baby\n",
       "20                Bruce Springsteen                        In My Life\n",
       "21                     The Ronettes                    God Only Knows\n",
       "22                      The Beatles  (Sittin’ On) The Dock of the Bay\n",
       "23                  The Impressions                             Layla\n",
       "24                   The Beach Boys                 A Day in the Life\n",
       "25                     Otis Redding                             Help!\n",
       "26            Derek and the Dominos                   I Walk the Line\n",
       "27                      The Beatles                Stairway to Heaven\n",
       "28                      The Beatles            Sympathy for the Devil\n",
       "29                      Johnny Cash   You’ve Lost That Lovin’ Feelin’\n",
       "30                     Led Zeppelin                     Light My Fire\n",
       "31               The Rolling Stones                               One\n",
       "32                Ike & Tina Turner                  No Woman, No Cry\n",
       "33           The Righteous Brothers                     Gimme Shelter\n",
       "34                        The Doors             Dancing in the Street\n",
       "35                               U2                        The Weight\n",
       "36                       Bob Marley                   Waterloo Sunset\n",
       "37               The Rolling Stones                      Tutti-Frutti\n",
       "38                      Buddy Holly                Georgia on My Mind\n",
       "39                     the Crickets                  Heartbreak Hotel\n",
       "40  Martha Reeves and the Vandellas                          \"Heroes\"\n",
       "41                         The Band          All Along the Watchtower\n",
       "42                        The Kinks        Bridge over Troubled Water\n",
       "43                   Little Richard                  Hotel California\n",
       "44                      Ray Charles                       The Message\n",
       "45                    Elvis Presley                    When Doves Cry\n",
       "46                      David Bowie          When a Man Loves a Woman\n",
       "47      The Jimi Hendrix Experience                       Louie Louie\n",
       "48                Simon & Garfunkel                   Long Tall Sally\n",
       "49                       The Eagles              Anarchy in the U. K."
      ]
     },
     "execution_count": 16,
     "metadata": {},
     "output_type": "execute_result"
    }
   ],
   "source": [
    "result = pd.concat([df1, df2], axis=1)\n",
    "result.head(50)"
   ]
  },
  {
   "cell_type": "markdown",
   "metadata": {},
   "source": [
    "PYTHON LINKS"
   ]
  },
  {
   "cell_type": "code",
   "execution_count": 17,
   "metadata": {},
   "outputs": [],
   "source": [
    "url ='https://en.wikipedia.org/wiki/Python'\n",
    "\n",
    "#download html with a get request\n",
    "response = requests.get(url)\n",
    "response.status_code \n",
    "\n",
    "#parse html (create the 'soup')\n",
    "soup = BeautifulSoup(response.content, \"html.parser\")\n"
   ]
  },
  {
   "cell_type": "code",
   "execution_count": 18,
   "metadata": {},
   "outputs": [
    {
     "data": {
      "text/plain": [
       "'/wiki/Pythonidae'"
      ]
     },
     "execution_count": 18,
     "metadata": {},
     "output_type": "execute_result"
    }
   ],
   "source": [
    "soup.select(\"#mw-content-text > div.mw-parser-output > ul > li > a\")[0][\"href\"]"
   ]
  },
  {
   "cell_type": "code",
   "execution_count": 19,
   "metadata": {},
   "outputs": [
    {
     "data": {
      "text/plain": [
       "['wikipedia.org/wiki/Pythonidae',\n",
       " 'wikipedia.org/wiki/Python_(mythology)',\n",
       " 'wikipedia.org/wiki/Python_(programming_language)',\n",
       " 'wikipedia.org/wiki/CMU_Common_Lisp',\n",
       " 'wikipedia.org/wiki/PERQ#PERQ_3',\n",
       " 'wikipedia.org/wiki/Python_of_Aenus',\n",
       " 'wikipedia.org/wiki/Python_(painter)',\n",
       " 'wikipedia.org/wiki/Python_of_Byzantium',\n",
       " 'wikipedia.org/wiki/Python_of_Catana',\n",
       " 'wikipedia.org/wiki/Python_Anghelo',\n",
       " 'wikipedia.org/wiki/Python_(Efteling)',\n",
       " 'wikipedia.org/wiki/Python_(Busch_Gardens_Tampa_Bay)',\n",
       " 'wikipedia.org/wiki/Python_(Coney_Island,_Cincinnati,_Ohio)',\n",
       " 'wikipedia.org/wiki/Python_(automobile_maker)',\n",
       " 'wikipedia.org/wiki/Python_(Ford_prototype)',\n",
       " 'wikipedia.org/wiki/Python_(missile)',\n",
       " 'wikipedia.org/wiki/Python_(nuclear_primary)',\n",
       " 'wikipedia.org/wiki/Colt_Python',\n",
       " 'wikipedia.org/wiki/PYTHON',\n",
       " 'wikipedia.org/wiki/Python_(film)',\n",
       " 'wikipedia.org/wiki/Monty_Python',\n",
       " 'wikipedia.org/wiki/Timon_of_Phlius',\n",
       " 'wikipedia.org/wiki/Cython',\n",
       " 'wikipedia.org/wiki/Pithon']"
      ]
     },
     "execution_count": 19,
     "metadata": {},
     "output_type": "execute_result"
    }
   ],
   "source": [
    "links = []\n",
    "\n",
    "for i in range(len(soup.select(\"#mw-content-text > div.mw-parser-output > ul > li > a\"))):\n",
    "    links.append(\"wikipedia.org\" + soup.select(\"#mw-content-text > div.mw-parser-output > ul > li > a\")[i][\"href\"])\n",
    "\n",
    "links"
   ]
  },
  {
   "cell_type": "markdown",
   "metadata": {},
   "source": [
    "# US HOUSE"
   ]
  },
  {
   "cell_type": "code",
   "execution_count": 20,
   "metadata": {},
   "outputs": [],
   "source": [
    "url ='http://uscode.house.gov/download/download.shtml'\n",
    "\n",
    "#download html with a get request\n",
    "response = requests.get(url)\n",
    "response.status_code \n",
    "\n",
    "#parse html (create the 'soup')\n",
    "soup = BeautifulSoup(response.content, \"html.parser\")\n"
   ]
  },
  {
   "cell_type": "code",
   "execution_count": 21,
   "metadata": {},
   "outputs": [
    {
     "data": {
      "text/plain": [
       "[<div class=\"usctitlechanged\" id=\"us/usc/t16\">\n",
       " \n",
       "           Title 16 - Conservation\n",
       " \n",
       "         </div>]"
      ]
     },
     "execution_count": 21,
     "metadata": {},
     "output_type": "execute_result"
    }
   ],
   "source": [
    "soup.select(\"#us\\/usc\\/t16\")"
   ]
  },
  {
   "cell_type": "code",
   "execution_count": 22,
   "metadata": {},
   "outputs": [
    {
     "data": {
      "text/plain": [
       "[<div class=\"usctitlechanged\" id=\"us/usc/t16\">\n",
       " \n",
       "           Title 16 - Conservation\n",
       " \n",
       "         </div>]"
      ]
     },
     "execution_count": 22,
     "metadata": {},
     "output_type": "execute_result"
    }
   ],
   "source": [
    "soup.findAll(class_='usctitlechanged')"
   ]
  },
  {
   "cell_type": "markdown",
   "metadata": {},
   "source": [
    "# FBI"
   ]
  },
  {
   "cell_type": "code",
   "execution_count": 23,
   "metadata": {},
   "outputs": [],
   "source": [
    "url ='https://www.fbi.gov/wanted/topten'\n",
    "\n",
    "#download html with a get request\n",
    "response = requests.get(url)\n",
    "response.status_code \n",
    "\n",
    "#parse html (create the 'soup')\n",
    "soup = BeautifulSoup(response.content, \"html.parser\")\n"
   ]
  },
  {
   "cell_type": "code",
   "execution_count": 24,
   "metadata": {},
   "outputs": [
    {
     "data": {
      "text/plain": [
       "<a href=\"https://www.fbi.gov/wanted/topten/jason-derek-brown\">JASON DEREK BROWN</a>"
      ]
     },
     "execution_count": 24,
     "metadata": {},
     "output_type": "execute_result"
    }
   ],
   "source": [
    "soup.select(\"h3 > a\")[0]"
   ]
  },
  {
   "cell_type": "code",
   "execution_count": 25,
   "metadata": {},
   "outputs": [
    {
     "data": {
      "text/plain": [
       "['JASON DEREK BROWN',\n",
       " 'ALEXIS FLORES',\n",
       " 'JOSE RODOLFO VILLARREAL-HERNANDEZ',\n",
       " 'RAFAEL CARO-QUINTERO',\n",
       " 'YULAN ADONAY ARCHAGA CARIAS',\n",
       " 'EUGENE PALMER',\n",
       " 'BHADRESHKUMAR CHETANBHAI PATEL',\n",
       " 'ALEJANDRO ROSALES CASTILLO',\n",
       " 'ARNOLDO JIMENEZ',\n",
       " 'OCTAVIANO JUAREZ-CORRO']"
      ]
     },
     "execution_count": 25,
     "metadata": {},
     "output_type": "execute_result"
    }
   ],
   "source": [
    "wanted = []\n",
    "\n",
    "for criminal in (soup.select(\"h3 > a\")):\n",
    "    wanted.append(criminal.get_text())\n",
    "\n",
    "wanted"
   ]
  },
  {
   "cell_type": "markdown",
   "metadata": {},
   "source": [
    "# EARTHQUAKE"
   ]
  },
  {
   "cell_type": "code",
   "execution_count": 26,
   "metadata": {},
   "outputs": [],
   "source": [
    "url ='https://www.emsc-csem.org/Earthquake/earthquake.php?id=1124328'\n",
    "\n",
    "#download html with a get request\n",
    "response = requests.get(url)\n",
    "response.status_code \n",
    "\n",
    "#parse html (create the 'soup')\n",
    "soup = BeautifulSoup(response.content, \"html.parser\")\n"
   ]
  },
  {
   "cell_type": "code",
   "execution_count": 27,
   "metadata": {},
   "outputs": [
    {
     "data": {
      "text/plain": [
       "[<td class=\"point\">Magnitude</td>,\n",
       " <td class=\"point\">Region</td>,\n",
       " <td class=\"point\">Date time</td>,\n",
       " <td class=\"point\">Location</td>,\n",
       " <td class=\"point\">Depth</td>,\n",
       " <td class=\"point\">Distances</td>]"
      ]
     },
     "execution_count": 27,
     "metadata": {},
     "output_type": "execute_result"
    }
   ],
   "source": [
    "soup.findAll(class_='point')"
   ]
  },
  {
   "cell_type": "code",
   "execution_count": 28,
   "metadata": {},
   "outputs": [
    {
     "data": {
      "text/plain": [
       "[<td class=\"point2\">ML 2.3</td>,\n",
       " <td class=\"point2\">SICILY, ITALY</td>,\n",
       " <td class=\"point2\">2022-05-02   17:39:49.2 UTC</td>,\n",
       " <td class=\"point2\">38.35 N ; 15.41 E</td>,\n",
       " <td class=\"point2\">120 km</td>]"
      ]
     },
     "execution_count": 28,
     "metadata": {},
     "output_type": "execute_result"
    }
   ],
   "source": [
    "soup.findAll(class_='point2')"
   ]
  },
  {
   "cell_type": "code",
   "execution_count": 29,
   "metadata": {},
   "outputs": [
    {
     "data": {
      "text/plain": [
       "['Magnitude', 'Region', 'Date time', 'Location', 'Depth', 'Distances']"
      ]
     },
     "execution_count": 29,
     "metadata": {},
     "output_type": "execute_result"
    }
   ],
   "source": [
    "id = []\n",
    "\n",
    "for value in (soup.findAll(class_='point')):\n",
    "    id.append(value.get_text())\n",
    "\n",
    "id"
   ]
  },
  {
   "cell_type": "code",
   "execution_count": 30,
   "metadata": {},
   "outputs": [
    {
     "data": {
      "text/plain": [
       "['ML 2.3',\n",
       " 'SICILY, ITALY',\n",
       " '2022-05-02   17:39:49.2 UTC',\n",
       " '38.35 N ; 15.41 E',\n",
       " '120 km']"
      ]
     },
     "execution_count": 30,
     "metadata": {},
     "output_type": "execute_result"
    }
   ],
   "source": [
    "data = []\n",
    "\n",
    "for value in (soup.findAll(class_='point2')):\n",
    "    data.append(value.get_text())\n",
    "\n",
    "data"
   ]
  },
  {
   "cell_type": "code",
   "execution_count": 32,
   "metadata": {},
   "outputs": [],
   "source": [
    "# df = pd.DataFrame(data, columns=id)\n",
    "\n",
    "# df.head()"
   ]
  },
  {
   "cell_type": "markdown",
   "metadata": {},
   "source": [
    "# WIKIPEDIA LANGUAGES"
   ]
  },
  {
   "cell_type": "code",
   "execution_count": 34,
   "metadata": {},
   "outputs": [],
   "source": [
    "url = 'https://www.wikipedia.org/'\n",
    "\n",
    "#download html with a get request\n",
    "response = requests.get(url)\n",
    "response.status_code \n",
    "\n",
    "#parse html (create the 'soup')\n",
    "soup = BeautifulSoup(response.content, \"html.parser\")\n"
   ]
  },
  {
   "cell_type": "code",
   "execution_count": 35,
   "metadata": {},
   "outputs": [
    {
     "data": {
      "text/plain": [
       "[<bdi dir=\"ltr\">\n",
       " 1 000 000+\n",
       " </bdi>]"
      ]
     },
     "execution_count": 35,
     "metadata": {},
     "output_type": "execute_result"
    }
   ],
   "source": [
    "soup.select(\"h2.bookshelf-container:nth-child(1) > span > span > bdi\")"
   ]
  },
  {
   "cell_type": "code",
   "execution_count": 36,
   "metadata": {},
   "outputs": [
    {
     "data": {
      "text/plain": [
       "[<bdi dir=\"ltr\">\n",
       " 100 000+\n",
       " </bdi>]"
      ]
     },
     "execution_count": 36,
     "metadata": {},
     "output_type": "execute_result"
    }
   ],
   "source": [
    "soup.select(\"h2.bookshelf-container:nth-child(3) > span > span > bdi\")"
   ]
  },
  {
   "cell_type": "code",
   "execution_count": 37,
   "metadata": {},
   "outputs": [],
   "source": [
    "languages1m = []\n",
    "\n",
    "for language in soup.select(\"div.langlist:nth-child(2) > ul > li > a\"):\n",
    "    languages1m.append(language.get_text())\n"
   ]
  },
  {
   "cell_type": "code",
   "execution_count": 38,
   "metadata": {},
   "outputs": [],
   "source": [
    "languages100k = []\n",
    "\n",
    "for language in soup.select(\"div.langlist:nth-child(4) > ul > li > a\"):\n",
    "    languages100k.append(language.get_text())\n"
   ]
  },
  {
   "cell_type": "code",
   "execution_count": 39,
   "metadata": {},
   "outputs": [],
   "source": [
    "languages10k = []\n",
    "\n",
    "for language in soup.select(\"div.langlist:nth-child(6) > ul > li > a\"):\n",
    "    languages10k.append(language.get_text())\n"
   ]
  },
  {
   "cell_type": "code",
   "execution_count": 40,
   "metadata": {},
   "outputs": [],
   "source": [
    "languages1k = []\n",
    "\n",
    "for language in soup.select(\"div.langlist:nth-child(8) > ul > li > a\"):\n",
    "    languages1k.append(language.get_text())\n"
   ]
  },
  {
   "cell_type": "code",
   "execution_count": 41,
   "metadata": {},
   "outputs": [],
   "source": [
    "languages100 = []\n",
    "\n",
    "for language in soup.select(\"div.langlist:nth-child(8) > ul > li > a\"):\n",
    "    languages100.append(language.get_text())\n"
   ]
  },
  {
   "cell_type": "code",
   "execution_count": 42,
   "metadata": {},
   "outputs": [],
   "source": [
    "df1 = pd.DataFrame(languages1m, columns=['Language'])"
   ]
  },
  {
   "cell_type": "code",
   "execution_count": 43,
   "metadata": {},
   "outputs": [],
   "source": [
    "df1[\"Articles\"] = \"1 Million+\""
   ]
  },
  {
   "cell_type": "code",
   "execution_count": 44,
   "metadata": {},
   "outputs": [
    {
     "data": {
      "text/html": [
       "<div>\n",
       "<style scoped>\n",
       "    .dataframe tbody tr th:only-of-type {\n",
       "        vertical-align: middle;\n",
       "    }\n",
       "\n",
       "    .dataframe tbody tr th {\n",
       "        vertical-align: top;\n",
       "    }\n",
       "\n",
       "    .dataframe thead th {\n",
       "        text-align: right;\n",
       "    }\n",
       "</style>\n",
       "<table border=\"1\" class=\"dataframe\">\n",
       "  <thead>\n",
       "    <tr style=\"text-align: right;\">\n",
       "      <th></th>\n",
       "      <th>Language</th>\n",
       "      <th>Articles</th>\n",
       "    </tr>\n",
       "  </thead>\n",
       "  <tbody>\n",
       "    <tr>\n",
       "      <th>0</th>\n",
       "      <td>Polski</td>\n",
       "      <td>1 Million+</td>\n",
       "    </tr>\n",
       "    <tr>\n",
       "      <th>1</th>\n",
       "      <td>العربية</td>\n",
       "      <td>1 Million+</td>\n",
       "    </tr>\n",
       "    <tr>\n",
       "      <th>2</th>\n",
       "      <td>Deutsch</td>\n",
       "      <td>1 Million+</td>\n",
       "    </tr>\n",
       "    <tr>\n",
       "      <th>3</th>\n",
       "      <td>English</td>\n",
       "      <td>1 Million+</td>\n",
       "    </tr>\n",
       "    <tr>\n",
       "      <th>4</th>\n",
       "      <td>Español</td>\n",
       "      <td>1 Million+</td>\n",
       "    </tr>\n",
       "    <tr>\n",
       "      <th>5</th>\n",
       "      <td>Français</td>\n",
       "      <td>1 Million+</td>\n",
       "    </tr>\n",
       "    <tr>\n",
       "      <th>6</th>\n",
       "      <td>Italiano</td>\n",
       "      <td>1 Million+</td>\n",
       "    </tr>\n",
       "    <tr>\n",
       "      <th>7</th>\n",
       "      <td>مصرى</td>\n",
       "      <td>1 Million+</td>\n",
       "    </tr>\n",
       "    <tr>\n",
       "      <th>8</th>\n",
       "      <td>Nederlands</td>\n",
       "      <td>1 Million+</td>\n",
       "    </tr>\n",
       "    <tr>\n",
       "      <th>9</th>\n",
       "      <td>日本語</td>\n",
       "      <td>1 Million+</td>\n",
       "    </tr>\n",
       "    <tr>\n",
       "      <th>10</th>\n",
       "      <td>Português</td>\n",
       "      <td>1 Million+</td>\n",
       "    </tr>\n",
       "    <tr>\n",
       "      <th>11</th>\n",
       "      <td>Русский</td>\n",
       "      <td>1 Million+</td>\n",
       "    </tr>\n",
       "    <tr>\n",
       "      <th>12</th>\n",
       "      <td>Sinugboanong Binisaya</td>\n",
       "      <td>1 Million+</td>\n",
       "    </tr>\n",
       "    <tr>\n",
       "      <th>13</th>\n",
       "      <td>Svenska</td>\n",
       "      <td>1 Million+</td>\n",
       "    </tr>\n",
       "    <tr>\n",
       "      <th>14</th>\n",
       "      <td>Українська</td>\n",
       "      <td>1 Million+</td>\n",
       "    </tr>\n",
       "    <tr>\n",
       "      <th>15</th>\n",
       "      <td>Tiếng Việt</td>\n",
       "      <td>1 Million+</td>\n",
       "    </tr>\n",
       "    <tr>\n",
       "      <th>16</th>\n",
       "      <td>Winaray</td>\n",
       "      <td>1 Million+</td>\n",
       "    </tr>\n",
       "    <tr>\n",
       "      <th>17</th>\n",
       "      <td>中文</td>\n",
       "      <td>1 Million+</td>\n",
       "    </tr>\n",
       "  </tbody>\n",
       "</table>\n",
       "</div>"
      ],
      "text/plain": [
       "                 Language    Articles\n",
       "0                  Polski  1 Million+\n",
       "1                 العربية  1 Million+\n",
       "2                 Deutsch  1 Million+\n",
       "3                 English  1 Million+\n",
       "4                 Español  1 Million+\n",
       "5                Français  1 Million+\n",
       "6                Italiano  1 Million+\n",
       "7                    مصرى  1 Million+\n",
       "8              Nederlands  1 Million+\n",
       "9                     日本語  1 Million+\n",
       "10              Português  1 Million+\n",
       "11                Русский  1 Million+\n",
       "12  Sinugboanong Binisaya  1 Million+\n",
       "13                Svenska  1 Million+\n",
       "14             Українська  1 Million+\n",
       "15             Tiếng Việt  1 Million+\n",
       "16                Winaray  1 Million+\n",
       "17                     中文  1 Million+"
      ]
     },
     "execution_count": 44,
     "metadata": {},
     "output_type": "execute_result"
    }
   ],
   "source": [
    "df1"
   ]
  },
  {
   "cell_type": "code",
   "execution_count": 45,
   "metadata": {},
   "outputs": [],
   "source": [
    "df2 = pd.DataFrame(languages100k, columns=['Language'])"
   ]
  },
  {
   "cell_type": "code",
   "execution_count": 46,
   "metadata": {},
   "outputs": [],
   "source": [
    "df3 = pd.DataFrame(languages10k, columns=['Language'])"
   ]
  },
  {
   "cell_type": "code",
   "execution_count": 47,
   "metadata": {},
   "outputs": [],
   "source": [
    "df4 = pd.DataFrame(languages1k, columns=['Language'])"
   ]
  },
  {
   "cell_type": "code",
   "execution_count": 48,
   "metadata": {},
   "outputs": [],
   "source": [
    "df5 = pd.DataFrame(languages100, columns=['Language'])"
   ]
  },
  {
   "cell_type": "code",
   "execution_count": 49,
   "metadata": {},
   "outputs": [],
   "source": [
    "df2[\"Articles\"] = \"100k+\""
   ]
  },
  {
   "cell_type": "code",
   "execution_count": 50,
   "metadata": {},
   "outputs": [],
   "source": [
    "df3[\"Articles\"] = \"10k+\""
   ]
  },
  {
   "cell_type": "code",
   "execution_count": 51,
   "metadata": {},
   "outputs": [],
   "source": [
    "df4[\"Articles\"] = \"1k+\""
   ]
  },
  {
   "cell_type": "code",
   "execution_count": 52,
   "metadata": {},
   "outputs": [],
   "source": [
    "df5[\"Articles\"] = \"100+\""
   ]
  },
  {
   "cell_type": "code",
   "execution_count": 53,
   "metadata": {},
   "outputs": [],
   "source": [
    "frames = [df1, df2, df3, df4, df5]"
   ]
  },
  {
   "cell_type": "code",
   "execution_count": 54,
   "metadata": {},
   "outputs": [],
   "source": [
    "result = pd.concat(frames)"
   ]
  },
  {
   "cell_type": "code",
   "execution_count": 55,
   "metadata": {},
   "outputs": [
    {
     "data": {
      "text/html": [
       "<div>\n",
       "<style scoped>\n",
       "    .dataframe tbody tr th:only-of-type {\n",
       "        vertical-align: middle;\n",
       "    }\n",
       "\n",
       "    .dataframe tbody tr th {\n",
       "        vertical-align: top;\n",
       "    }\n",
       "\n",
       "    .dataframe thead th {\n",
       "        text-align: right;\n",
       "    }\n",
       "</style>\n",
       "<table border=\"1\" class=\"dataframe\">\n",
       "  <thead>\n",
       "    <tr style=\"text-align: right;\">\n",
       "      <th></th>\n",
       "      <th>Language</th>\n",
       "      <th>Articles</th>\n",
       "    </tr>\n",
       "  </thead>\n",
       "  <tbody>\n",
       "    <tr>\n",
       "      <th>0</th>\n",
       "      <td>Polski</td>\n",
       "      <td>1 Million+</td>\n",
       "    </tr>\n",
       "    <tr>\n",
       "      <th>1</th>\n",
       "      <td>العربية</td>\n",
       "      <td>1 Million+</td>\n",
       "    </tr>\n",
       "    <tr>\n",
       "      <th>2</th>\n",
       "      <td>Deutsch</td>\n",
       "      <td>1 Million+</td>\n",
       "    </tr>\n",
       "    <tr>\n",
       "      <th>3</th>\n",
       "      <td>English</td>\n",
       "      <td>1 Million+</td>\n",
       "    </tr>\n",
       "    <tr>\n",
       "      <th>4</th>\n",
       "      <td>Español</td>\n",
       "      <td>1 Million+</td>\n",
       "    </tr>\n",
       "    <tr>\n",
       "      <th>5</th>\n",
       "      <td>Français</td>\n",
       "      <td>1 Million+</td>\n",
       "    </tr>\n",
       "    <tr>\n",
       "      <th>6</th>\n",
       "      <td>Italiano</td>\n",
       "      <td>1 Million+</td>\n",
       "    </tr>\n",
       "    <tr>\n",
       "      <th>7</th>\n",
       "      <td>مصرى</td>\n",
       "      <td>1 Million+</td>\n",
       "    </tr>\n",
       "    <tr>\n",
       "      <th>8</th>\n",
       "      <td>Nederlands</td>\n",
       "      <td>1 Million+</td>\n",
       "    </tr>\n",
       "    <tr>\n",
       "      <th>9</th>\n",
       "      <td>日本語</td>\n",
       "      <td>1 Million+</td>\n",
       "    </tr>\n",
       "    <tr>\n",
       "      <th>10</th>\n",
       "      <td>Português</td>\n",
       "      <td>1 Million+</td>\n",
       "    </tr>\n",
       "    <tr>\n",
       "      <th>11</th>\n",
       "      <td>Русский</td>\n",
       "      <td>1 Million+</td>\n",
       "    </tr>\n",
       "    <tr>\n",
       "      <th>12</th>\n",
       "      <td>Sinugboanong Binisaya</td>\n",
       "      <td>1 Million+</td>\n",
       "    </tr>\n",
       "    <tr>\n",
       "      <th>13</th>\n",
       "      <td>Svenska</td>\n",
       "      <td>1 Million+</td>\n",
       "    </tr>\n",
       "    <tr>\n",
       "      <th>14</th>\n",
       "      <td>Українська</td>\n",
       "      <td>1 Million+</td>\n",
       "    </tr>\n",
       "    <tr>\n",
       "      <th>15</th>\n",
       "      <td>Tiếng Việt</td>\n",
       "      <td>1 Million+</td>\n",
       "    </tr>\n",
       "    <tr>\n",
       "      <th>16</th>\n",
       "      <td>Winaray</td>\n",
       "      <td>1 Million+</td>\n",
       "    </tr>\n",
       "    <tr>\n",
       "      <th>17</th>\n",
       "      <td>中文</td>\n",
       "      <td>1 Million+</td>\n",
       "    </tr>\n",
       "    <tr>\n",
       "      <th>18</th>\n",
       "      <td>Afrikaans</td>\n",
       "      <td>100k+</td>\n",
       "    </tr>\n",
       "    <tr>\n",
       "      <th>19</th>\n",
       "      <td>Slovenčina</td>\n",
       "      <td>100k+</td>\n",
       "    </tr>\n",
       "    <tr>\n",
       "      <th>20</th>\n",
       "      <td>Asturianu</td>\n",
       "      <td>100k+</td>\n",
       "    </tr>\n",
       "    <tr>\n",
       "      <th>21</th>\n",
       "      <td>Azərbaycanca</td>\n",
       "      <td>100k+</td>\n",
       "    </tr>\n",
       "    <tr>\n",
       "      <th>22</th>\n",
       "      <td>Български</td>\n",
       "      <td>100k+</td>\n",
       "    </tr>\n",
       "    <tr>\n",
       "      <th>23</th>\n",
       "      <td>Bân-lâm-gú / Hō-ló-oē</td>\n",
       "      <td>100k+</td>\n",
       "    </tr>\n",
       "    <tr>\n",
       "      <th>24</th>\n",
       "      <td>বাংলা</td>\n",
       "      <td>100k+</td>\n",
       "    </tr>\n",
       "    <tr>\n",
       "      <th>25</th>\n",
       "      <td>Беларуская</td>\n",
       "      <td>100k+</td>\n",
       "    </tr>\n",
       "    <tr>\n",
       "      <th>26</th>\n",
       "      <td>Català</td>\n",
       "      <td>100k+</td>\n",
       "    </tr>\n",
       "    <tr>\n",
       "      <th>27</th>\n",
       "      <td>Čeština</td>\n",
       "      <td>100k+</td>\n",
       "    </tr>\n",
       "    <tr>\n",
       "      <th>28</th>\n",
       "      <td>Cymraeg</td>\n",
       "      <td>100k+</td>\n",
       "    </tr>\n",
       "    <tr>\n",
       "      <th>29</th>\n",
       "      <td>Dansk</td>\n",
       "      <td>100k+</td>\n",
       "    </tr>\n",
       "    <tr>\n",
       "      <th>30</th>\n",
       "      <td>Eesti</td>\n",
       "      <td>100k+</td>\n",
       "    </tr>\n",
       "    <tr>\n",
       "      <th>31</th>\n",
       "      <td>Ελληνικά</td>\n",
       "      <td>100k+</td>\n",
       "    </tr>\n",
       "    <tr>\n",
       "      <th>32</th>\n",
       "      <td>Esperanto</td>\n",
       "      <td>100k+</td>\n",
       "    </tr>\n",
       "    <tr>\n",
       "      <th>33</th>\n",
       "      <td>Euskara</td>\n",
       "      <td>100k+</td>\n",
       "    </tr>\n",
       "    <tr>\n",
       "      <th>34</th>\n",
       "      <td>فارسی</td>\n",
       "      <td>100k+</td>\n",
       "    </tr>\n",
       "    <tr>\n",
       "      <th>35</th>\n",
       "      <td>Galego</td>\n",
       "      <td>100k+</td>\n",
       "    </tr>\n",
       "    <tr>\n",
       "      <th>36</th>\n",
       "      <td>한국어</td>\n",
       "      <td>100k+</td>\n",
       "    </tr>\n",
       "    <tr>\n",
       "      <th>37</th>\n",
       "      <td>Հայերեն</td>\n",
       "      <td>100k+</td>\n",
       "    </tr>\n",
       "    <tr>\n",
       "      <th>38</th>\n",
       "      <td>हिन्दी</td>\n",
       "      <td>100k+</td>\n",
       "    </tr>\n",
       "    <tr>\n",
       "      <th>39</th>\n",
       "      <td>Hrvatski</td>\n",
       "      <td>100k+</td>\n",
       "    </tr>\n",
       "    <tr>\n",
       "      <th>40</th>\n",
       "      <td>Bahasa Indonesia</td>\n",
       "      <td>100k+</td>\n",
       "    </tr>\n",
       "    <tr>\n",
       "      <th>41</th>\n",
       "      <td>עברית</td>\n",
       "      <td>100k+</td>\n",
       "    </tr>\n",
       "    <tr>\n",
       "      <th>42</th>\n",
       "      <td>ქართული</td>\n",
       "      <td>100k+</td>\n",
       "    </tr>\n",
       "    <tr>\n",
       "      <th>43</th>\n",
       "      <td>Latina</td>\n",
       "      <td>100k+</td>\n",
       "    </tr>\n",
       "    <tr>\n",
       "      <th>44</th>\n",
       "      <td>Latviešu</td>\n",
       "      <td>100k+</td>\n",
       "    </tr>\n",
       "    <tr>\n",
       "      <th>45</th>\n",
       "      <td>Lietuvių</td>\n",
       "      <td>100k+</td>\n",
       "    </tr>\n",
       "    <tr>\n",
       "      <th>46</th>\n",
       "      <td>Magyar</td>\n",
       "      <td>100k+</td>\n",
       "    </tr>\n",
       "    <tr>\n",
       "      <th>47</th>\n",
       "      <td>Македонски</td>\n",
       "      <td>100k+</td>\n",
       "    </tr>\n",
       "    <tr>\n",
       "      <th>48</th>\n",
       "      <td>Bahasa Melayu</td>\n",
       "      <td>100k+</td>\n",
       "    </tr>\n",
       "    <tr>\n",
       "      <th>49</th>\n",
       "      <td>Bahaso Minangkabau</td>\n",
       "      <td>100k+</td>\n",
       "    </tr>\n",
       "  </tbody>\n",
       "</table>\n",
       "</div>"
      ],
      "text/plain": [
       "                 Language    Articles\n",
       "0                  Polski  1 Million+\n",
       "1                 العربية  1 Million+\n",
       "2                 Deutsch  1 Million+\n",
       "3                 English  1 Million+\n",
       "4                 Español  1 Million+\n",
       "5                Français  1 Million+\n",
       "6                Italiano  1 Million+\n",
       "7                    مصرى  1 Million+\n",
       "8              Nederlands  1 Million+\n",
       "9                     日本語  1 Million+\n",
       "10              Português  1 Million+\n",
       "11                Русский  1 Million+\n",
       "12  Sinugboanong Binisaya  1 Million+\n",
       "13                Svenska  1 Million+\n",
       "14             Українська  1 Million+\n",
       "15             Tiếng Việt  1 Million+\n",
       "16                Winaray  1 Million+\n",
       "17                     中文  1 Million+\n",
       "18              Afrikaans       100k+\n",
       "19             Slovenčina       100k+\n",
       "20              Asturianu       100k+\n",
       "21           Azərbaycanca       100k+\n",
       "22              Български       100k+\n",
       "23  Bân-lâm-gú / Hō-ló-oē       100k+\n",
       "24                  বাংলা       100k+\n",
       "25             Беларуская       100k+\n",
       "26                 Català       100k+\n",
       "27                Čeština       100k+\n",
       "28                Cymraeg       100k+\n",
       "29                  Dansk       100k+\n",
       "30                  Eesti       100k+\n",
       "31               Ελληνικά       100k+\n",
       "32              Esperanto       100k+\n",
       "33                Euskara       100k+\n",
       "34                  فارسی       100k+\n",
       "35                 Galego       100k+\n",
       "36                    한국어       100k+\n",
       "37                Հայերեն       100k+\n",
       "38                 हिन्दी       100k+\n",
       "39               Hrvatski       100k+\n",
       "40       Bahasa Indonesia       100k+\n",
       "41                  עברית       100k+\n",
       "42                ქართული       100k+\n",
       "43                 Latina       100k+\n",
       "44               Latviešu       100k+\n",
       "45               Lietuvių       100k+\n",
       "46                 Magyar       100k+\n",
       "47             Македонски       100k+\n",
       "48          Bahasa Melayu       100k+\n",
       "49     Bahaso Minangkabau       100k+"
      ]
     },
     "execution_count": 55,
     "metadata": {},
     "output_type": "execute_result"
    }
   ],
   "source": [
    "result.head(50).reset_index(drop=True)"
   ]
  },
  {
   "cell_type": "markdown",
   "metadata": {},
   "source": [
    "# DATASETS FROM GOV.UK"
   ]
  },
  {
   "cell_type": "code",
   "execution_count": 56,
   "metadata": {},
   "outputs": [],
   "source": [
    "url = 'https://data.gov.uk/'\n",
    "\n",
    "#download html with a get request\n",
    "response = requests.get(url)\n",
    "response.status_code \n",
    "\n",
    "#parse html (create the 'soup')\n",
    "soup = BeautifulSoup(response.content, \"html.parser\")\n"
   ]
  },
  {
   "cell_type": "code",
   "execution_count": 57,
   "metadata": {},
   "outputs": [
    {
     "data": {
      "text/plain": [
       "[<a class=\"govuk-link\" href=\"/search?filters%5Btopic%5D=Business+and+economy\">Business and economy</a>,\n",
       " <a class=\"govuk-link\" href=\"/search?filters%5Btopic%5D=Crime+and+justice\">Crime and justice</a>,\n",
       " <a class=\"govuk-link\" href=\"/search?filters%5Btopic%5D=Defence\">Defence</a>,\n",
       " <a class=\"govuk-link\" href=\"/search?filters%5Btopic%5D=Education\">Education</a>,\n",
       " <a class=\"govuk-link\" href=\"/search?filters%5Btopic%5D=Environment\">Environment</a>,\n",
       " <a class=\"govuk-link\" href=\"/search?filters%5Btopic%5D=Government\">Government</a>,\n",
       " <a class=\"govuk-link\" href=\"/search?filters%5Btopic%5D=Government+spending\">Government spending</a>,\n",
       " <a class=\"govuk-link\" href=\"/search?filters%5Btopic%5D=Health\">Health</a>,\n",
       " <a class=\"govuk-link\" href=\"/search?filters%5Btopic%5D=Mapping\">Mapping</a>,\n",
       " <a class=\"govuk-link\" href=\"/search?filters%5Btopic%5D=Society\">Society</a>,\n",
       " <a class=\"govuk-link\" href=\"/search?filters%5Btopic%5D=Towns+and+cities\">Towns and cities</a>,\n",
       " <a class=\"govuk-link\" href=\"/search?filters%5Btopic%5D=Transport\">Transport</a>,\n",
       " <a class=\"govuk-link\" href=\"/search?filters%5Btopic%5D=Digital+service+performance\">Digital service performance</a>,\n",
       " <a class=\"govuk-link\" href=\"/search?filters%5Btopic%5D=Government+reference+data\">Government reference data</a>]"
      ]
     },
     "execution_count": 57,
     "metadata": {},
     "output_type": "execute_result"
    }
   ],
   "source": [
    "soup.select(\".govuk-list > li > h3 > a\")"
   ]
  },
  {
   "cell_type": "code",
   "execution_count": 58,
   "metadata": {},
   "outputs": [
    {
     "data": {
      "text/plain": [
       "['Business and economy',\n",
       " 'Crime and justice',\n",
       " 'Defence',\n",
       " 'Education',\n",
       " 'Environment',\n",
       " 'Government',\n",
       " 'Government spending',\n",
       " 'Health',\n",
       " 'Mapping',\n",
       " 'Society',\n",
       " 'Towns and cities',\n",
       " 'Transport',\n",
       " 'Digital service performance',\n",
       " 'Government reference data']"
      ]
     },
     "execution_count": 58,
     "metadata": {},
     "output_type": "execute_result"
    }
   ],
   "source": [
    "data = []\n",
    "\n",
    "for value in (soup.select(\".govuk-list > li > h3 > a\")):\n",
    "    data.append(value.get_text())\n",
    "\n",
    "data"
   ]
  },
  {
   "cell_type": "markdown",
   "metadata": {},
   "source": [
    "# TOP 10 Languages by native speakers"
   ]
  },
  {
   "cell_type": "code",
   "execution_count": 163,
   "metadata": {},
   "outputs": [],
   "source": [
    "url = 'https://en.wikipedia.org/wiki/List_of_languages_by_number_of_native_speakers'\n",
    "\n",
    "#download html with a get request\n",
    "response = requests.get(url)\n",
    "response.status_code \n",
    "\n",
    "#parse html (create the 'soup')\n",
    "soup = BeautifulSoup(response.content, \"html.parser\")\n"
   ]
  },
  {
   "cell_type": "code",
   "execution_count": 164,
   "metadata": {},
   "outputs": [
    {
     "data": {
      "text/plain": [
       "[<a href=\"/wiki/Mandarin_Chinese\" title=\"Mandarin Chinese\">Mandarin Chinese</a>]"
      ]
     },
     "execution_count": 164,
     "metadata": {},
     "output_type": "execute_result"
    }
   ],
   "source": [
    "soup.select(\"table.wikitable:nth-child(16) > tbody:nth-child(2) > tr:nth-child(2) > td:nth-child(2) > a\")"
   ]
  },
  {
   "cell_type": "code",
   "execution_count": 165,
   "metadata": {},
   "outputs": [
    {
     "data": {
      "text/plain": [
       "[<a href=\"/wiki/Spanish_language\" title=\"Spanish language\">Spanish</a>]"
      ]
     },
     "execution_count": 165,
     "metadata": {},
     "output_type": "execute_result"
    }
   ],
   "source": [
    "soup.select(\"table.wikitable:nth-child(16) > tbody:nth-child(2) > tr:nth-child(3) > td:nth-child(2) > a\")"
   ]
  },
  {
   "cell_type": "code",
   "execution_count": 166,
   "metadata": {},
   "outputs": [
    {
     "data": {
      "text/plain": [
       "[<a href=\"/wiki/English_language\" title=\"English language\">English</a>]"
      ]
     },
     "execution_count": 166,
     "metadata": {},
     "output_type": "execute_result"
    }
   ],
   "source": [
    "soup.select(\"table.wikitable:nth-child(16) > tbody:nth-child(2) > tr:nth-child(4) > td:nth-child(2) > a\")"
   ]
  },
  {
   "cell_type": "code",
   "execution_count": 224,
   "metadata": {},
   "outputs": [],
   "source": [
    "iterations = range(2, 12, 1)\n",
    "languages = []\n",
    "for i in iterations:\n",
    "    position= str(i)\n",
    "    a = soup.select(\"table.wikitable:nth-child(16) > tbody:nth-child(2) > tr:nth-child(\"+position+\") > td:nth-child(2) > a\")\n",
    "    languages.append(a)\n",
    "\n",
    "    languages"
   ]
  },
  {
   "cell_type": "code",
   "execution_count": 225,
   "metadata": {},
   "outputs": [
    {
     "data": {
      "text/plain": [
       "[[<a href=\"/wiki/Mandarin_Chinese\" title=\"Mandarin Chinese\">Mandarin Chinese</a>],\n",
       " [<a href=\"/wiki/Spanish_language\" title=\"Spanish language\">Spanish</a>],\n",
       " [<a href=\"/wiki/English_language\" title=\"English language\">English</a>],\n",
       " [<a href=\"/wiki/Hindi\" title=\"Hindi\">Hindi</a>,\n",
       "  <a href=\"/wiki/Hindustani_language\" title=\"Hindustani language\">Hindustani</a>],\n",
       " [<a href=\"/wiki/Bengali_language\" title=\"Bengali language\">Bengali</a>],\n",
       " [<a href=\"/wiki/Portuguese_language\" title=\"Portuguese language\">Portuguese</a>],\n",
       " [<a href=\"/wiki/Russian_language\" title=\"Russian language\">Russian</a>],\n",
       " [<a href=\"/wiki/Japanese_language\" title=\"Japanese language\">Japanese</a>],\n",
       " [<a href=\"/wiki/Punjabi_language\" title=\"Punjabi language\">Western Punjabi</a>],\n",
       " [<a href=\"/wiki/Marathi_language\" title=\"Marathi language\">Marathi</a>]]"
      ]
     },
     "execution_count": 225,
     "metadata": {},
     "output_type": "execute_result"
    }
   ],
   "source": [
    "languages"
   ]
  },
  {
   "cell_type": "code",
   "execution_count": 226,
   "metadata": {},
   "outputs": [],
   "source": [
    "df1 = pd.DataFrame(languages, columns=['Language','Language2'])"
   ]
  },
  {
   "cell_type": "code",
   "execution_count": 227,
   "metadata": {},
   "outputs": [
    {
     "data": {
      "text/html": [
       "<div>\n",
       "<style scoped>\n",
       "    .dataframe tbody tr th:only-of-type {\n",
       "        vertical-align: middle;\n",
       "    }\n",
       "\n",
       "    .dataframe tbody tr th {\n",
       "        vertical-align: top;\n",
       "    }\n",
       "\n",
       "    .dataframe thead th {\n",
       "        text-align: right;\n",
       "    }\n",
       "</style>\n",
       "<table border=\"1\" class=\"dataframe\">\n",
       "  <thead>\n",
       "    <tr style=\"text-align: right;\">\n",
       "      <th></th>\n",
       "      <th>Language</th>\n",
       "      <th>Language2</th>\n",
       "    </tr>\n",
       "  </thead>\n",
       "  <tbody>\n",
       "    <tr>\n",
       "      <th>0</th>\n",
       "      <td>[Mandarin Chinese]</td>\n",
       "      <td>None</td>\n",
       "    </tr>\n",
       "    <tr>\n",
       "      <th>1</th>\n",
       "      <td>[Spanish]</td>\n",
       "      <td>None</td>\n",
       "    </tr>\n",
       "    <tr>\n",
       "      <th>2</th>\n",
       "      <td>[English]</td>\n",
       "      <td>None</td>\n",
       "    </tr>\n",
       "    <tr>\n",
       "      <th>3</th>\n",
       "      <td>[Hindi]</td>\n",
       "      <td>[Hindustani]</td>\n",
       "    </tr>\n",
       "    <tr>\n",
       "      <th>4</th>\n",
       "      <td>[Bengali]</td>\n",
       "      <td>None</td>\n",
       "    </tr>\n",
       "  </tbody>\n",
       "</table>\n",
       "</div>"
      ],
      "text/plain": [
       "             Language     Language2\n",
       "0  [Mandarin Chinese]          None\n",
       "1           [Spanish]          None\n",
       "2           [English]          None\n",
       "3             [Hindi]  [Hindustani]\n",
       "4           [Bengali]          None"
      ]
     },
     "execution_count": 227,
     "metadata": {},
     "output_type": "execute_result"
    }
   ],
   "source": [
    "df1.head()"
   ]
  },
  {
   "cell_type": "code",
   "execution_count": 228,
   "metadata": {},
   "outputs": [],
   "source": [
    "df1.drop(['Language2'],axis=1,inplace=True)"
   ]
  },
  {
   "cell_type": "code",
   "execution_count": 229,
   "metadata": {},
   "outputs": [
    {
     "data": {
      "text/html": [
       "<div>\n",
       "<style scoped>\n",
       "    .dataframe tbody tr th:only-of-type {\n",
       "        vertical-align: middle;\n",
       "    }\n",
       "\n",
       "    .dataframe tbody tr th {\n",
       "        vertical-align: top;\n",
       "    }\n",
       "\n",
       "    .dataframe thead th {\n",
       "        text-align: right;\n",
       "    }\n",
       "</style>\n",
       "<table border=\"1\" class=\"dataframe\">\n",
       "  <thead>\n",
       "    <tr style=\"text-align: right;\">\n",
       "      <th></th>\n",
       "      <th>Language</th>\n",
       "    </tr>\n",
       "  </thead>\n",
       "  <tbody>\n",
       "    <tr>\n",
       "      <th>0</th>\n",
       "      <td>[Mandarin Chinese]</td>\n",
       "    </tr>\n",
       "    <tr>\n",
       "      <th>1</th>\n",
       "      <td>[Spanish]</td>\n",
       "    </tr>\n",
       "    <tr>\n",
       "      <th>2</th>\n",
       "      <td>[English]</td>\n",
       "    </tr>\n",
       "    <tr>\n",
       "      <th>3</th>\n",
       "      <td>[Hindi]</td>\n",
       "    </tr>\n",
       "    <tr>\n",
       "      <th>4</th>\n",
       "      <td>[Bengali]</td>\n",
       "    </tr>\n",
       "    <tr>\n",
       "      <th>5</th>\n",
       "      <td>[Portuguese]</td>\n",
       "    </tr>\n",
       "    <tr>\n",
       "      <th>6</th>\n",
       "      <td>[Russian]</td>\n",
       "    </tr>\n",
       "    <tr>\n",
       "      <th>7</th>\n",
       "      <td>[Japanese]</td>\n",
       "    </tr>\n",
       "    <tr>\n",
       "      <th>8</th>\n",
       "      <td>[Western Punjabi]</td>\n",
       "    </tr>\n",
       "    <tr>\n",
       "      <th>9</th>\n",
       "      <td>[Marathi]</td>\n",
       "    </tr>\n",
       "  </tbody>\n",
       "</table>\n",
       "</div>"
      ],
      "text/plain": [
       "             Language\n",
       "0  [Mandarin Chinese]\n",
       "1           [Spanish]\n",
       "2           [English]\n",
       "3             [Hindi]\n",
       "4           [Bengali]\n",
       "5        [Portuguese]\n",
       "6           [Russian]\n",
       "7          [Japanese]\n",
       "8   [Western Punjabi]\n",
       "9           [Marathi]"
      ]
     },
     "execution_count": 229,
     "metadata": {},
     "output_type": "execute_result"
    }
   ],
   "source": [
    "df1.head(11)"
   ]
  },
  {
   "cell_type": "code",
   "execution_count": 230,
   "metadata": {},
   "outputs": [],
   "source": [
    "speakers = []\n",
    "\n",
    "for i in range(0,10):   \n",
    "    soup.select(\"table.wikitable:nth-child(16) > tbody > tr > td:nth-child(3)\")\n",
    "    speakers.append(soup.select(\"table.wikitable:nth-child(16) > tbody > tr > td:nth-child(3)\")[i].get_text())\n"
   ]
  },
  {
   "cell_type": "code",
   "execution_count": 231,
   "metadata": {},
   "outputs": [],
   "source": [
    "df2 = pd.DataFrame(speakers)"
   ]
  },
  {
   "cell_type": "code",
   "execution_count": 232,
   "metadata": {},
   "outputs": [
    {
     "data": {
      "text/html": [
       "<div>\n",
       "<style scoped>\n",
       "    .dataframe tbody tr th:only-of-type {\n",
       "        vertical-align: middle;\n",
       "    }\n",
       "\n",
       "    .dataframe tbody tr th {\n",
       "        vertical-align: top;\n",
       "    }\n",
       "\n",
       "    .dataframe thead th {\n",
       "        text-align: right;\n",
       "    }\n",
       "</style>\n",
       "<table border=\"1\" class=\"dataframe\">\n",
       "  <thead>\n",
       "    <tr style=\"text-align: right;\">\n",
       "      <th></th>\n",
       "      <th>0</th>\n",
       "    </tr>\n",
       "  </thead>\n",
       "  <tbody>\n",
       "    <tr>\n",
       "      <th>0</th>\n",
       "      <td>918\\n</td>\n",
       "    </tr>\n",
       "    <tr>\n",
       "      <th>1</th>\n",
       "      <td>480\\n</td>\n",
       "    </tr>\n",
       "    <tr>\n",
       "      <th>2</th>\n",
       "      <td>379\\n</td>\n",
       "    </tr>\n",
       "    <tr>\n",
       "      <th>3</th>\n",
       "      <td>341\\n</td>\n",
       "    </tr>\n",
       "    <tr>\n",
       "      <th>4</th>\n",
       "      <td>300\\n</td>\n",
       "    </tr>\n",
       "    <tr>\n",
       "      <th>5</th>\n",
       "      <td>221\\n</td>\n",
       "    </tr>\n",
       "    <tr>\n",
       "      <th>6</th>\n",
       "      <td>154\\n</td>\n",
       "    </tr>\n",
       "    <tr>\n",
       "      <th>7</th>\n",
       "      <td>128\\n</td>\n",
       "    </tr>\n",
       "    <tr>\n",
       "      <th>8</th>\n",
       "      <td>92.7\\n</td>\n",
       "    </tr>\n",
       "    <tr>\n",
       "      <th>9</th>\n",
       "      <td>83.1\\n</td>\n",
       "    </tr>\n",
       "  </tbody>\n",
       "</table>\n",
       "</div>"
      ],
      "text/plain": [
       "        0\n",
       "0   918\\n\n",
       "1   480\\n\n",
       "2   379\\n\n",
       "3   341\\n\n",
       "4   300\\n\n",
       "5   221\\n\n",
       "6   154\\n\n",
       "7   128\\n\n",
       "8  92.7\\n\n",
       "9  83.1\\n"
      ]
     },
     "execution_count": 232,
     "metadata": {},
     "output_type": "execute_result"
    }
   ],
   "source": [
    "df2.head(20)"
   ]
  },
  {
   "cell_type": "code",
   "execution_count": 233,
   "metadata": {},
   "outputs": [],
   "source": [
    "frames = [df1,df2]"
   ]
  },
  {
   "cell_type": "code",
   "execution_count": 234,
   "metadata": {},
   "outputs": [],
   "source": [
    "result = pd.concat(frames,axis=1)"
   ]
  },
  {
   "cell_type": "code",
   "execution_count": 235,
   "metadata": {},
   "outputs": [
    {
     "data": {
      "text/html": [
       "<div>\n",
       "<style scoped>\n",
       "    .dataframe tbody tr th:only-of-type {\n",
       "        vertical-align: middle;\n",
       "    }\n",
       "\n",
       "    .dataframe tbody tr th {\n",
       "        vertical-align: top;\n",
       "    }\n",
       "\n",
       "    .dataframe thead th {\n",
       "        text-align: right;\n",
       "    }\n",
       "</style>\n",
       "<table border=\"1\" class=\"dataframe\">\n",
       "  <thead>\n",
       "    <tr style=\"text-align: right;\">\n",
       "      <th></th>\n",
       "      <th>Language</th>\n",
       "      <th>0</th>\n",
       "    </tr>\n",
       "  </thead>\n",
       "  <tbody>\n",
       "    <tr>\n",
       "      <th>0</th>\n",
       "      <td>[Mandarin Chinese]</td>\n",
       "      <td>918\\n</td>\n",
       "    </tr>\n",
       "    <tr>\n",
       "      <th>1</th>\n",
       "      <td>[Spanish]</td>\n",
       "      <td>480\\n</td>\n",
       "    </tr>\n",
       "    <tr>\n",
       "      <th>2</th>\n",
       "      <td>[English]</td>\n",
       "      <td>379\\n</td>\n",
       "    </tr>\n",
       "    <tr>\n",
       "      <th>3</th>\n",
       "      <td>[Hindi]</td>\n",
       "      <td>341\\n</td>\n",
       "    </tr>\n",
       "    <tr>\n",
       "      <th>4</th>\n",
       "      <td>[Bengali]</td>\n",
       "      <td>300\\n</td>\n",
       "    </tr>\n",
       "    <tr>\n",
       "      <th>5</th>\n",
       "      <td>[Portuguese]</td>\n",
       "      <td>221\\n</td>\n",
       "    </tr>\n",
       "    <tr>\n",
       "      <th>6</th>\n",
       "      <td>[Russian]</td>\n",
       "      <td>154\\n</td>\n",
       "    </tr>\n",
       "    <tr>\n",
       "      <th>7</th>\n",
       "      <td>[Japanese]</td>\n",
       "      <td>128\\n</td>\n",
       "    </tr>\n",
       "    <tr>\n",
       "      <th>8</th>\n",
       "      <td>[Western Punjabi]</td>\n",
       "      <td>92.7\\n</td>\n",
       "    </tr>\n",
       "    <tr>\n",
       "      <th>9</th>\n",
       "      <td>[Marathi]</td>\n",
       "      <td>83.1\\n</td>\n",
       "    </tr>\n",
       "  </tbody>\n",
       "</table>\n",
       "</div>"
      ],
      "text/plain": [
       "             Language       0\n",
       "0  [Mandarin Chinese]   918\\n\n",
       "1           [Spanish]   480\\n\n",
       "2           [English]   379\\n\n",
       "3             [Hindi]   341\\n\n",
       "4           [Bengali]   300\\n\n",
       "5        [Portuguese]   221\\n\n",
       "6           [Russian]   154\\n\n",
       "7          [Japanese]   128\\n\n",
       "8   [Western Punjabi]  92.7\\n\n",
       "9           [Marathi]  83.1\\n"
      ]
     },
     "execution_count": 235,
     "metadata": {},
     "output_type": "execute_result"
    }
   ],
   "source": [
    "result.head(20)"
   ]
  }
 ],
 "metadata": {
  "interpreter": {
   "hash": "36d5f7c48bedb4d3d321bc296b2ac9966e6c1466a4c35688050537ec673e2f81"
  },
  "kernelspec": {
   "display_name": "Python 3.9.7 ('base')",
   "language": "python",
   "name": "python3"
  },
  "language_info": {
   "codemirror_mode": {
    "name": "ipython",
    "version": 3
   },
   "file_extension": ".py",
   "mimetype": "text/x-python",
   "name": "python",
   "nbconvert_exporter": "python",
   "pygments_lexer": "ipython3",
   "version": "3.9.7"
  },
  "orig_nbformat": 4
 },
 "nbformat": 4,
 "nbformat_minor": 2
}
