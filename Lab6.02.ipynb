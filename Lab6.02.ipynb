{
 "cells": [
  {
   "cell_type": "code",
   "execution_count": 1,
   "metadata": {},
   "outputs": [],
   "source": [
    "from bs4 import BeautifulSoup\n",
    "import requests\n",
    "import pandas as pd"
   ]
  },
  {
   "cell_type": "code",
   "execution_count": 2,
   "metadata": {},
   "outputs": [],
   "source": [
    "#find url and store it in a variable\n",
    "url = \"https://de.wikipedia.org/wiki/Die_500_besten_Songs_aller_Zeiten_(Rolling_Stone)\""
   ]
  },
  {
   "cell_type": "code",
   "execution_count": 3,
   "metadata": {},
   "outputs": [
    {
     "data": {
      "text/plain": [
       "200"
      ]
     },
     "execution_count": 3,
     "metadata": {},
     "output_type": "execute_result"
    }
   ],
   "source": [
    "#download html with a get request\n",
    "response = requests.get(url)\n",
    "response.status_code "
   ]
  },
  {
   "cell_type": "code",
   "execution_count": 85,
   "metadata": {},
   "outputs": [],
   "source": [
    "#parse html (create the 'soup')\n",
    "soup = BeautifulSoup(response.content, \"html.parser\")"
   ]
  },
  {
   "cell_type": "code",
   "execution_count": 44,
   "metadata": {},
   "outputs": [
    {
     "name": "stdout",
     "output_type": "stream",
     "text": [
      "Like a Rolling Stone\n",
      "\n"
     ]
    }
   ],
   "source": [
    "for title in soup.select('#mw-content-text > div.mw-parser-output > table > tbody > tr:nth-child(3) > td:nth-child(3)'):\n",
    "    print(title.get_text())\n",
    "\n"
   ]
  },
  {
   "cell_type": "code",
   "execution_count": 55,
   "metadata": {},
   "outputs": [
    {
     "data": {
      "text/plain": [
       "[]"
      ]
     },
     "execution_count": 55,
     "metadata": {},
     "output_type": "execute_result"
    }
   ],
   "source": [
    "soup.select('.tr.a.href.title')"
   ]
  },
  {
   "cell_type": "code",
   "execution_count": 61,
   "metadata": {},
   "outputs": [],
   "source": [
    "test = soup.find(\"#mw-content-text > div.mw-parser-output > table > tbody > tr:nth-child(3) > td:nth-child(4)\", string = \"title\")"
   ]
  },
  {
   "cell_type": "code",
   "execution_count": 62,
   "metadata": {},
   "outputs": [],
   "source": [
    "test"
   ]
  },
  {
   "cell_type": "code",
   "execution_count": 25,
   "metadata": {},
   "outputs": [
    {
     "name": "stdout",
     "output_type": "stream",
     "text": [
      "Bob Dylan\n",
      "\n"
     ]
    }
   ],
   "source": [
    "for artist in soup.select('#mw-content-text > div.mw-parser-output > table > tbody > tr:nth-child(3) > td:nth-child(4)'):\n",
    "    print(artist.get_text())\n",
    "\n"
   ]
  },
  {
   "cell_type": "code",
   "execution_count": 71,
   "metadata": {},
   "outputs": [
    {
     "name": "stdout",
     "output_type": "stream",
     "text": [
      "Bob Dylan\n",
      "The Rolling Stones\n",
      "John Lennon\n",
      "Marvin Gaye\n",
      "Aretha Franklin\n",
      "The Beach Boys\n",
      "Chuck Berry\n",
      "The Beatles\n",
      "Nirvana\n",
      "Ray Charles\n",
      "The Who\n",
      "Sam Cooke\n",
      "The Beatles\n",
      "Bob Dylan\n",
      "The Clash\n",
      "The Beatles\n",
      "The Jimi Hendrix Experience\n",
      "Chuck Berry\n",
      "Elvis Presley\n",
      "The Beatles\n",
      "Bruce Springsteen\n",
      "The Ronettes\n",
      "The Beatles\n",
      "The Impressions\n",
      "The Beach Boys\n",
      "Otis Redding\n",
      "Derek and the Dominos\n",
      "The Beatles\n",
      "The Beatles\n",
      "Johnny Cash\n",
      "Led Zeppelin\n",
      "The Rolling Stones\n",
      "Ike & Tina Turner\n",
      "The Righteous Brothers\n",
      "The Doors\n",
      "U2\n",
      "Bob Marley\n",
      "The Rolling Stones\n",
      "Buddy Holly\n",
      "the Crickets\n",
      "Martha Reeves and the Vandellas\n",
      "The Band\n",
      "The Kinks\n",
      "Little Richard\n",
      "Ray Charles\n",
      "Elvis Presley\n",
      "David Bowie\n",
      "The Jimi Hendrix Experience\n",
      "Simon & Garfunkel\n",
      "The Eagles\n",
      "Smokey Robinson\n",
      "the Miracles\n",
      "Grandmaster Flash & the Furious Five\n",
      "Prince\n",
      "Percy Sledge\n",
      "The Kingsmen\n",
      "Little Richard\n",
      "Sex Pistols\n",
      "Procol Harum\n",
      "Michael Jackson\n",
      "Bob Dylan\n",
      "Al Green\n",
      "Jerry Lee Lewis\n",
      "Bo Diddley\n",
      "Buffalo Springfield\n",
      "The Beatles\n",
      "Cream\n",
      "Bob Marley and the Wailers\n",
      "Elvis Presley\n",
      "Bob Dylan\n",
      "Roy Orbison\n",
      "Dionne Warwick\n",
      "James Brown\n",
      "The Beach Boys\n",
      "Stevie Wonder\n",
      "Eddie Cochran\n",
      "Led Zeppelin\n",
      "The Beatles\n",
      "Elvis Presley\n",
      "James Brown\n",
      "The Byrds\n",
      "The Kinks\n",
      "Marvin Gaye\n",
      "Fats Domino\n",
      "The Beatles\n",
      "The Police\n",
      "Patsy Cline\n",
      "Bruce Springsteen\n",
      "Johnny Cash\n",
      "The Temptations\n",
      "The Mamas and the Papas\n",
      "The Five Satins\n",
      "Elvis Presley\n",
      "Ramones\n",
      "U2\n",
      "Little Richard\n",
      "Carl Perkins\n",
      "Jerry Lee Lewis\n",
      "Chuck Berry\n",
      "Al Green\n",
      "Creedence Clearwater Revival\n",
      "Gnarls Barkley\n",
      "The Rolling Stones\n"
     ]
    }
   ],
   "source": [
    "for artist in soup.select('#mw-content-text > div.mw-parser-output > table > tbody > tr > td:nth-child(4)> a'):\n",
    "    print(artist.get_text())\n"
   ]
  },
  {
   "cell_type": "code",
   "execution_count": 75,
   "metadata": {},
   "outputs": [],
   "source": [
    "artists = []\n",
    "for artist in soup.select('#mw-content-text > div.mw-parser-output > table > tbody > tr > td:nth-child(4)> a'):\n",
    "    artists.append(artist.get_text())"
   ]
  },
  {
   "cell_type": "code",
   "execution_count": 80,
   "metadata": {},
   "outputs": [],
   "source": [
    "songs = []\n",
    "for song in soup.select('#mw-content-text > div.mw-parser-output > table > tbody > tr > td:nth-child(3)> a'):\n",
    "    songs.append(song.get_text())"
   ]
  },
  {
   "cell_type": "code",
   "execution_count": 82,
   "metadata": {},
   "outputs": [],
   "source": [
    "df1 = pd.DataFrame(artists, columns=['Artist'])"
   ]
  },
  {
   "cell_type": "code",
   "execution_count": 83,
   "metadata": {},
   "outputs": [],
   "source": [
    "df2 = pd.DataFrame(songs, columns=['Song'])"
   ]
  },
  {
   "cell_type": "code",
   "execution_count": 84,
   "metadata": {},
   "outputs": [
    {
     "data": {
      "text/html": [
       "<div>\n",
       "<style scoped>\n",
       "    .dataframe tbody tr th:only-of-type {\n",
       "        vertical-align: middle;\n",
       "    }\n",
       "\n",
       "    .dataframe tbody tr th {\n",
       "        vertical-align: top;\n",
       "    }\n",
       "\n",
       "    .dataframe thead th {\n",
       "        text-align: right;\n",
       "    }\n",
       "</style>\n",
       "<table border=\"1\" class=\"dataframe\">\n",
       "  <thead>\n",
       "    <tr style=\"text-align: right;\">\n",
       "      <th></th>\n",
       "      <th>Artist</th>\n",
       "      <th>Song</th>\n",
       "    </tr>\n",
       "  </thead>\n",
       "  <tbody>\n",
       "    <tr>\n",
       "      <th>0</th>\n",
       "      <td>Bob Dylan</td>\n",
       "      <td>Like a Rolling Stone</td>\n",
       "    </tr>\n",
       "    <tr>\n",
       "      <th>1</th>\n",
       "      <td>The Rolling Stones</td>\n",
       "      <td>(I Can’t Get No) Satisfaction</td>\n",
       "    </tr>\n",
       "    <tr>\n",
       "      <th>2</th>\n",
       "      <td>John Lennon</td>\n",
       "      <td>Imagine</td>\n",
       "    </tr>\n",
       "    <tr>\n",
       "      <th>3</th>\n",
       "      <td>Marvin Gaye</td>\n",
       "      <td>Respect</td>\n",
       "    </tr>\n",
       "    <tr>\n",
       "      <th>4</th>\n",
       "      <td>Aretha Franklin</td>\n",
       "      <td>Good Vibrations</td>\n",
       "    </tr>\n",
       "    <tr>\n",
       "      <th>5</th>\n",
       "      <td>The Beach Boys</td>\n",
       "      <td>Johnny B. Goode</td>\n",
       "    </tr>\n",
       "    <tr>\n",
       "      <th>6</th>\n",
       "      <td>Chuck Berry</td>\n",
       "      <td>Hey Jude</td>\n",
       "    </tr>\n",
       "    <tr>\n",
       "      <th>7</th>\n",
       "      <td>The Beatles</td>\n",
       "      <td>Smells Like Teen Spirit</td>\n",
       "    </tr>\n",
       "    <tr>\n",
       "      <th>8</th>\n",
       "      <td>Nirvana</td>\n",
       "      <td>What’d I Say</td>\n",
       "    </tr>\n",
       "    <tr>\n",
       "      <th>9</th>\n",
       "      <td>Ray Charles</td>\n",
       "      <td>My Generation</td>\n",
       "    </tr>\n",
       "    <tr>\n",
       "      <th>10</th>\n",
       "      <td>The Who</td>\n",
       "      <td>A Change Is Gonna Come</td>\n",
       "    </tr>\n",
       "    <tr>\n",
       "      <th>11</th>\n",
       "      <td>Sam Cooke</td>\n",
       "      <td>Yesterday</td>\n",
       "    </tr>\n",
       "    <tr>\n",
       "      <th>12</th>\n",
       "      <td>The Beatles</td>\n",
       "      <td>Blowin’ in the Wind</td>\n",
       "    </tr>\n",
       "    <tr>\n",
       "      <th>13</th>\n",
       "      <td>Bob Dylan</td>\n",
       "      <td>London Calling</td>\n",
       "    </tr>\n",
       "    <tr>\n",
       "      <th>14</th>\n",
       "      <td>The Clash</td>\n",
       "      <td>I Want to Hold Your Hand</td>\n",
       "    </tr>\n",
       "    <tr>\n",
       "      <th>15</th>\n",
       "      <td>The Beatles</td>\n",
       "      <td>Purple Haze</td>\n",
       "    </tr>\n",
       "    <tr>\n",
       "      <th>16</th>\n",
       "      <td>The Jimi Hendrix Experience</td>\n",
       "      <td>Hound Dog</td>\n",
       "    </tr>\n",
       "    <tr>\n",
       "      <th>17</th>\n",
       "      <td>Chuck Berry</td>\n",
       "      <td>Let It Be</td>\n",
       "    </tr>\n",
       "    <tr>\n",
       "      <th>18</th>\n",
       "      <td>Elvis Presley</td>\n",
       "      <td>Born to Run</td>\n",
       "    </tr>\n",
       "    <tr>\n",
       "      <th>19</th>\n",
       "      <td>The Beatles</td>\n",
       "      <td>Be My Baby</td>\n",
       "    </tr>\n",
       "    <tr>\n",
       "      <th>20</th>\n",
       "      <td>Bruce Springsteen</td>\n",
       "      <td>In My Life</td>\n",
       "    </tr>\n",
       "    <tr>\n",
       "      <th>21</th>\n",
       "      <td>The Ronettes</td>\n",
       "      <td>God Only Knows</td>\n",
       "    </tr>\n",
       "    <tr>\n",
       "      <th>22</th>\n",
       "      <td>The Beatles</td>\n",
       "      <td>(Sittin’ On) The Dock of the Bay</td>\n",
       "    </tr>\n",
       "    <tr>\n",
       "      <th>23</th>\n",
       "      <td>The Impressions</td>\n",
       "      <td>Layla</td>\n",
       "    </tr>\n",
       "    <tr>\n",
       "      <th>24</th>\n",
       "      <td>The Beach Boys</td>\n",
       "      <td>A Day in the Life</td>\n",
       "    </tr>\n",
       "    <tr>\n",
       "      <th>25</th>\n",
       "      <td>Otis Redding</td>\n",
       "      <td>Help!</td>\n",
       "    </tr>\n",
       "    <tr>\n",
       "      <th>26</th>\n",
       "      <td>Derek and the Dominos</td>\n",
       "      <td>I Walk the Line</td>\n",
       "    </tr>\n",
       "    <tr>\n",
       "      <th>27</th>\n",
       "      <td>The Beatles</td>\n",
       "      <td>Stairway to Heaven</td>\n",
       "    </tr>\n",
       "    <tr>\n",
       "      <th>28</th>\n",
       "      <td>The Beatles</td>\n",
       "      <td>Sympathy for the Devil</td>\n",
       "    </tr>\n",
       "    <tr>\n",
       "      <th>29</th>\n",
       "      <td>Johnny Cash</td>\n",
       "      <td>You’ve Lost That Lovin’ Feelin’</td>\n",
       "    </tr>\n",
       "    <tr>\n",
       "      <th>30</th>\n",
       "      <td>Led Zeppelin</td>\n",
       "      <td>Light My Fire</td>\n",
       "    </tr>\n",
       "    <tr>\n",
       "      <th>31</th>\n",
       "      <td>The Rolling Stones</td>\n",
       "      <td>One</td>\n",
       "    </tr>\n",
       "    <tr>\n",
       "      <th>32</th>\n",
       "      <td>Ike &amp; Tina Turner</td>\n",
       "      <td>No Woman, No Cry</td>\n",
       "    </tr>\n",
       "    <tr>\n",
       "      <th>33</th>\n",
       "      <td>The Righteous Brothers</td>\n",
       "      <td>Gimme Shelter</td>\n",
       "    </tr>\n",
       "    <tr>\n",
       "      <th>34</th>\n",
       "      <td>The Doors</td>\n",
       "      <td>Dancing in the Street</td>\n",
       "    </tr>\n",
       "    <tr>\n",
       "      <th>35</th>\n",
       "      <td>U2</td>\n",
       "      <td>The Weight</td>\n",
       "    </tr>\n",
       "    <tr>\n",
       "      <th>36</th>\n",
       "      <td>Bob Marley</td>\n",
       "      <td>Waterloo Sunset</td>\n",
       "    </tr>\n",
       "    <tr>\n",
       "      <th>37</th>\n",
       "      <td>The Rolling Stones</td>\n",
       "      <td>Tutti-Frutti</td>\n",
       "    </tr>\n",
       "    <tr>\n",
       "      <th>38</th>\n",
       "      <td>Buddy Holly</td>\n",
       "      <td>Georgia on My Mind</td>\n",
       "    </tr>\n",
       "    <tr>\n",
       "      <th>39</th>\n",
       "      <td>the Crickets</td>\n",
       "      <td>Heartbreak Hotel</td>\n",
       "    </tr>\n",
       "    <tr>\n",
       "      <th>40</th>\n",
       "      <td>Martha Reeves and the Vandellas</td>\n",
       "      <td>\"Heroes\"</td>\n",
       "    </tr>\n",
       "    <tr>\n",
       "      <th>41</th>\n",
       "      <td>The Band</td>\n",
       "      <td>All Along the Watchtower</td>\n",
       "    </tr>\n",
       "    <tr>\n",
       "      <th>42</th>\n",
       "      <td>The Kinks</td>\n",
       "      <td>Bridge over Troubled Water</td>\n",
       "    </tr>\n",
       "    <tr>\n",
       "      <th>43</th>\n",
       "      <td>Little Richard</td>\n",
       "      <td>Hotel California</td>\n",
       "    </tr>\n",
       "    <tr>\n",
       "      <th>44</th>\n",
       "      <td>Ray Charles</td>\n",
       "      <td>The Message</td>\n",
       "    </tr>\n",
       "    <tr>\n",
       "      <th>45</th>\n",
       "      <td>Elvis Presley</td>\n",
       "      <td>When Doves Cry</td>\n",
       "    </tr>\n",
       "    <tr>\n",
       "      <th>46</th>\n",
       "      <td>David Bowie</td>\n",
       "      <td>When a Man Loves a Woman</td>\n",
       "    </tr>\n",
       "    <tr>\n",
       "      <th>47</th>\n",
       "      <td>The Jimi Hendrix Experience</td>\n",
       "      <td>Louie Louie</td>\n",
       "    </tr>\n",
       "    <tr>\n",
       "      <th>48</th>\n",
       "      <td>Simon &amp; Garfunkel</td>\n",
       "      <td>Long Tall Sally</td>\n",
       "    </tr>\n",
       "    <tr>\n",
       "      <th>49</th>\n",
       "      <td>The Eagles</td>\n",
       "      <td>Anarchy in the U. K.</td>\n",
       "    </tr>\n",
       "  </tbody>\n",
       "</table>\n",
       "</div>"
      ],
      "text/plain": [
       "                             Artist                              Song\n",
       "0                         Bob Dylan              Like a Rolling Stone\n",
       "1                The Rolling Stones     (I Can’t Get No) Satisfaction\n",
       "2                       John Lennon                           Imagine\n",
       "3                       Marvin Gaye                           Respect\n",
       "4                   Aretha Franklin                   Good Vibrations\n",
       "5                    The Beach Boys                   Johnny B. Goode\n",
       "6                       Chuck Berry                          Hey Jude\n",
       "7                       The Beatles           Smells Like Teen Spirit\n",
       "8                           Nirvana                      What’d I Say\n",
       "9                       Ray Charles                     My Generation\n",
       "10                          The Who            A Change Is Gonna Come\n",
       "11                        Sam Cooke                         Yesterday\n",
       "12                      The Beatles               Blowin’ in the Wind\n",
       "13                        Bob Dylan                    London Calling\n",
       "14                        The Clash          I Want to Hold Your Hand\n",
       "15                      The Beatles                       Purple Haze\n",
       "16      The Jimi Hendrix Experience                         Hound Dog\n",
       "17                      Chuck Berry                         Let It Be\n",
       "18                    Elvis Presley                       Born to Run\n",
       "19                      The Beatles                        Be My Baby\n",
       "20                Bruce Springsteen                        In My Life\n",
       "21                     The Ronettes                    God Only Knows\n",
       "22                      The Beatles  (Sittin’ On) The Dock of the Bay\n",
       "23                  The Impressions                             Layla\n",
       "24                   The Beach Boys                 A Day in the Life\n",
       "25                     Otis Redding                             Help!\n",
       "26            Derek and the Dominos                   I Walk the Line\n",
       "27                      The Beatles                Stairway to Heaven\n",
       "28                      The Beatles            Sympathy for the Devil\n",
       "29                      Johnny Cash   You’ve Lost That Lovin’ Feelin’\n",
       "30                     Led Zeppelin                     Light My Fire\n",
       "31               The Rolling Stones                               One\n",
       "32                Ike & Tina Turner                  No Woman, No Cry\n",
       "33           The Righteous Brothers                     Gimme Shelter\n",
       "34                        The Doors             Dancing in the Street\n",
       "35                               U2                        The Weight\n",
       "36                       Bob Marley                   Waterloo Sunset\n",
       "37               The Rolling Stones                      Tutti-Frutti\n",
       "38                      Buddy Holly                Georgia on My Mind\n",
       "39                     the Crickets                  Heartbreak Hotel\n",
       "40  Martha Reeves and the Vandellas                          \"Heroes\"\n",
       "41                         The Band          All Along the Watchtower\n",
       "42                        The Kinks        Bridge over Troubled Water\n",
       "43                   Little Richard                  Hotel California\n",
       "44                      Ray Charles                       The Message\n",
       "45                    Elvis Presley                    When Doves Cry\n",
       "46                      David Bowie          When a Man Loves a Woman\n",
       "47      The Jimi Hendrix Experience                       Louie Louie\n",
       "48                Simon & Garfunkel                   Long Tall Sally\n",
       "49                       The Eagles              Anarchy in the U. K."
      ]
     },
     "execution_count": 84,
     "metadata": {},
     "output_type": "execute_result"
    }
   ],
   "source": [
    "result = pd.concat([df1, df2], axis=1)\n",
    "result.head(50)"
   ]
  },
  {
   "cell_type": "markdown",
   "metadata": {},
   "source": [
    "PYTHON LINKS"
   ]
  },
  {
   "cell_type": "code",
   "execution_count": 86,
   "metadata": {},
   "outputs": [],
   "source": [
    "url ='https://en.wikipedia.org/wiki/Python'\n",
    "\n",
    "#download html with a get request\n",
    "response = requests.get(url)\n",
    "response.status_code \n",
    "\n",
    "#parse html (create the 'soup')\n",
    "soup = BeautifulSoup(response.content, \"html.parser\")\n"
   ]
  },
  {
   "cell_type": "code",
   "execution_count": 116,
   "metadata": {},
   "outputs": [
    {
     "data": {
      "text/plain": [
       "'/wiki/Python_(mythology)'"
      ]
     },
     "execution_count": 116,
     "metadata": {},
     "output_type": "execute_result"
    }
   ],
   "source": [
    "soup.select(\"#mw-content-text > div.mw-parser-output > ul > li > a\")[0][\"href\"]"
   ]
  },
  {
   "cell_type": "code",
   "execution_count": 98,
   "metadata": {},
   "outputs": [
    {
     "data": {
      "text/plain": [
       "['wikipedia.org/wiki/Pythonidae',\n",
       " 'wikipedia.org/wiki/Python_(mythology)',\n",
       " 'wikipedia.org/wiki/Python_(programming_language)',\n",
       " 'wikipedia.org/wiki/CMU_Common_Lisp',\n",
       " 'wikipedia.org/wiki/PERQ#PERQ_3',\n",
       " 'wikipedia.org/wiki/Python_of_Aenus',\n",
       " 'wikipedia.org/wiki/Python_(painter)',\n",
       " 'wikipedia.org/wiki/Python_of_Byzantium',\n",
       " 'wikipedia.org/wiki/Python_of_Catana',\n",
       " 'wikipedia.org/wiki/Python_Anghelo',\n",
       " 'wikipedia.org/wiki/Python_(Efteling)',\n",
       " 'wikipedia.org/wiki/Python_(Busch_Gardens_Tampa_Bay)',\n",
       " 'wikipedia.org/wiki/Python_(Coney_Island,_Cincinnati,_Ohio)',\n",
       " 'wikipedia.org/wiki/Python_(automobile_maker)',\n",
       " 'wikipedia.org/wiki/Python_(Ford_prototype)',\n",
       " 'wikipedia.org/wiki/Python_(missile)',\n",
       " 'wikipedia.org/wiki/Python_(nuclear_primary)',\n",
       " 'wikipedia.org/wiki/Colt_Python',\n",
       " 'wikipedia.org/wiki/PYTHON',\n",
       " 'wikipedia.org/wiki/Python_(film)',\n",
       " 'wikipedia.org/wiki/Monty_Python',\n",
       " 'wikipedia.org/wiki/Timon_of_Phlius',\n",
       " 'wikipedia.org/wiki/Cython',\n",
       " 'wikipedia.org/wiki/Pithon']"
      ]
     },
     "execution_count": 98,
     "metadata": {},
     "output_type": "execute_result"
    }
   ],
   "source": [
    "links = []\n",
    "\n",
    "for i in range(len(soup.select(\"#mw-content-text > div.mw-parser-output > ul > li > a\"))):\n",
    "    links.append(\"wikipedia.org\" + soup.select(\"#mw-content-text > div.mw-parser-output > ul > li > a\")[i][\"href\"])\n",
    "\n",
    "links"
   ]
  },
  {
   "cell_type": "markdown",
   "metadata": {},
   "source": [
    "# US HOUSE"
   ]
  },
  {
   "cell_type": "code",
   "execution_count": 117,
   "metadata": {},
   "outputs": [],
   "source": [
    "url ='http://uscode.house.gov/download/download.shtml'\n",
    "\n",
    "#download html with a get request\n",
    "response = requests.get(url)\n",
    "response.status_code \n",
    "\n",
    "#parse html (create the 'soup')\n",
    "soup = BeautifulSoup(response.content, \"html.parser\")\n"
   ]
  },
  {
   "cell_type": "code",
   "execution_count": 124,
   "metadata": {},
   "outputs": [
    {
     "data": {
      "text/plain": [
       "[<div class=\"usctitlechanged\" id=\"us/usc/t16\">\n",
       " \n",
       "           Title 16 - Conservation\n",
       " \n",
       "         </div>]"
      ]
     },
     "execution_count": 124,
     "metadata": {},
     "output_type": "execute_result"
    }
   ],
   "source": [
    "soup.select(\"#us\\/usc\\/t16\")"
   ]
  },
  {
   "cell_type": "code",
   "execution_count": 141,
   "metadata": {},
   "outputs": [
    {
     "data": {
      "text/plain": [
       "[<div class=\"usctitlechanged\" id=\"us/usc/t16\">\n",
       " \n",
       "           Title 16 - Conservation\n",
       " \n",
       "         </div>]"
      ]
     },
     "execution_count": 141,
     "metadata": {},
     "output_type": "execute_result"
    }
   ],
   "source": [
    "soup.findAll(class_='usctitlechanged')"
   ]
  },
  {
   "cell_type": "markdown",
   "metadata": {},
   "source": [
    "FBI"
   ]
  },
  {
   "cell_type": "code",
   "execution_count": 142,
   "metadata": {},
   "outputs": [],
   "source": [
    "url ='https://www.fbi.gov/wanted/topten'\n",
    "\n",
    "#download html with a get request\n",
    "response = requests.get(url)\n",
    "response.status_code \n",
    "\n",
    "#parse html (create the 'soup')\n",
    "soup = BeautifulSoup(response.content, \"html.parser\")\n"
   ]
  },
  {
   "cell_type": "code",
   "execution_count": 154,
   "metadata": {},
   "outputs": [
    {
     "data": {
      "text/plain": [
       "<a href=\"https://www.fbi.gov/wanted/topten/jason-derek-brown\">JASON DEREK BROWN</a>"
      ]
     },
     "execution_count": 154,
     "metadata": {},
     "output_type": "execute_result"
    }
   ],
   "source": [
    "soup.select(\"h3 > a\")[0]"
   ]
  },
  {
   "cell_type": "code",
   "execution_count": 163,
   "metadata": {},
   "outputs": [
    {
     "data": {
      "text/plain": [
       "['JASON DEREK BROWN',\n",
       " 'ALEXIS FLORES',\n",
       " 'JOSE RODOLFO VILLARREAL-HERNANDEZ',\n",
       " 'RAFAEL CARO-QUINTERO',\n",
       " 'YULAN ADONAY ARCHAGA CARIAS',\n",
       " 'EUGENE PALMER',\n",
       " 'BHADRESHKUMAR CHETANBHAI PATEL',\n",
       " 'ALEJANDRO ROSALES CASTILLO',\n",
       " 'ARNOLDO JIMENEZ',\n",
       " 'OCTAVIANO JUAREZ-CORRO']"
      ]
     },
     "execution_count": 163,
     "metadata": {},
     "output_type": "execute_result"
    }
   ],
   "source": [
    "wanted = []\n",
    "\n",
    "for criminal in (soup.select(\"h3 > a\")):\n",
    "    wanted.append(criminal.get_text())\n",
    "\n",
    "wanted"
   ]
  },
  {
   "cell_type": "markdown",
   "metadata": {},
   "source": [
    "#EARTHQUAKE"
   ]
  },
  {
   "cell_type": "code",
   "execution_count": null,
   "metadata": {},
   "outputs": [],
   "source": [
    "https://www.emsc-csem.org/Earthquake/earthquake.php?id=1124326"
   ]
  },
  {
   "cell_type": "code",
   "execution_count": 191,
   "metadata": {},
   "outputs": [],
   "source": [
    "url ='https://www.emsc-csem.org/Earthquake/earthquake.php?id=1124328'\n",
    "\n",
    "#download html with a get request\n",
    "response = requests.get(url)\n",
    "response.status_code \n",
    "\n",
    "#parse html (create the 'soup')\n",
    "soup = BeautifulSoup(response.content, \"html.parser\")\n"
   ]
  },
  {
   "cell_type": "code",
   "execution_count": 202,
   "metadata": {},
   "outputs": [
    {
     "data": {
      "text/plain": [
       "[<td class=\"point\">Magnitude</td>,\n",
       " <td class=\"point\">Region</td>,\n",
       " <td class=\"point\">Date time</td>,\n",
       " <td class=\"point\">Location</td>,\n",
       " <td class=\"point\">Depth</td>,\n",
       " <td class=\"point\">Distances</td>]"
      ]
     },
     "execution_count": 202,
     "metadata": {},
     "output_type": "execute_result"
    }
   ],
   "source": [
    "soup.findAll(class_='point')"
   ]
  },
  {
   "cell_type": "code",
   "execution_count": 203,
   "metadata": {},
   "outputs": [
    {
     "data": {
      "text/plain": [
       "[<td class=\"point2\">ML 2.3</td>,\n",
       " <td class=\"point2\">SICILY, ITALY</td>,\n",
       " <td class=\"point2\">2022-05-02   17:39:49.2 UTC</td>,\n",
       " <td class=\"point2\">38.35 N ; 15.41 E</td>,\n",
       " <td class=\"point2\">120 km</td>]"
      ]
     },
     "execution_count": 203,
     "metadata": {},
     "output_type": "execute_result"
    }
   ],
   "source": [
    "soup.findAll(class_='point2')"
   ]
  },
  {
   "cell_type": "code",
   "execution_count": 205,
   "metadata": {},
   "outputs": [
    {
     "data": {
      "text/plain": [
       "['Magnitude', 'Region', 'Date time', 'Location', 'Depth', 'Distances']"
      ]
     },
     "execution_count": 205,
     "metadata": {},
     "output_type": "execute_result"
    }
   ],
   "source": [
    "id = []\n",
    "\n",
    "for value in (soup.findAll(class_='point')):\n",
    "    id.append(value.get_text())\n",
    "\n",
    "id"
   ]
  },
  {
   "cell_type": "code",
   "execution_count": 206,
   "metadata": {},
   "outputs": [
    {
     "data": {
      "text/plain": [
       "['ML 2.3',\n",
       " 'SICILY, ITALY',\n",
       " '2022-05-02   17:39:49.2 UTC',\n",
       " '38.35 N ; 15.41 E',\n",
       " '120 km']"
      ]
     },
     "execution_count": 206,
     "metadata": {},
     "output_type": "execute_result"
    }
   ],
   "source": [
    "data = []\n",
    "\n",
    "for value in (soup.findAll(class_='point2')):\n",
    "    data.append(value.get_text())\n",
    "\n",
    "data"
   ]
  },
  {
   "cell_type": "code",
   "execution_count": 211,
   "metadata": {},
   "outputs": [
    {
     "ename": "ValueError",
     "evalue": "Shape of passed values is (5, 1), indices imply (5, 6)",
     "output_type": "error",
     "traceback": [
      "\u001b[1;31m---------------------------------------------------------------------------\u001b[0m",
      "\u001b[1;31mValueError\u001b[0m                                Traceback (most recent call last)",
      "\u001b[1;32m~\\AppData\\Local\\Temp/ipykernel_3104/696148228.py\u001b[0m in \u001b[0;36m<module>\u001b[1;34m\u001b[0m\n\u001b[1;32m----> 1\u001b[1;33m \u001b[0mdf\u001b[0m \u001b[1;33m=\u001b[0m \u001b[0mpd\u001b[0m\u001b[1;33m.\u001b[0m\u001b[0mDataFrame\u001b[0m\u001b[1;33m(\u001b[0m\u001b[0mdata\u001b[0m\u001b[1;33m,\u001b[0m \u001b[0mcolumns\u001b[0m\u001b[1;33m=\u001b[0m\u001b[0mid\u001b[0m\u001b[1;33m)\u001b[0m\u001b[1;33m\u001b[0m\u001b[1;33m\u001b[0m\u001b[0m\n\u001b[0m\u001b[0;32m      2\u001b[0m \u001b[1;33m\u001b[0m\u001b[0m\n\u001b[0;32m      3\u001b[0m \u001b[0mdf\u001b[0m\u001b[1;33m.\u001b[0m\u001b[0mhead\u001b[0m\u001b[1;33m(\u001b[0m\u001b[1;33m)\u001b[0m\u001b[1;33m\u001b[0m\u001b[1;33m\u001b[0m\u001b[0m\n",
      "\u001b[1;32mD:\\Users\\Phillip\\anaconda3\\lib\\site-packages\\pandas\\core\\frame.py\u001b[0m in \u001b[0;36m__init__\u001b[1;34m(self, data, index, columns, dtype, copy)\u001b[0m\n\u001b[0;32m    709\u001b[0m                     )\n\u001b[0;32m    710\u001b[0m                 \u001b[1;32melse\u001b[0m\u001b[1;33m:\u001b[0m\u001b[1;33m\u001b[0m\u001b[1;33m\u001b[0m\u001b[0m\n\u001b[1;32m--> 711\u001b[1;33m                     mgr = ndarray_to_mgr(\n\u001b[0m\u001b[0;32m    712\u001b[0m                         \u001b[0mdata\u001b[0m\u001b[1;33m,\u001b[0m\u001b[1;33m\u001b[0m\u001b[1;33m\u001b[0m\u001b[0m\n\u001b[0;32m    713\u001b[0m                         \u001b[0mindex\u001b[0m\u001b[1;33m,\u001b[0m\u001b[1;33m\u001b[0m\u001b[1;33m\u001b[0m\u001b[0m\n",
      "\u001b[1;32mD:\\Users\\Phillip\\anaconda3\\lib\\site-packages\\pandas\\core\\internals\\construction.py\u001b[0m in \u001b[0;36mndarray_to_mgr\u001b[1;34m(values, index, columns, dtype, copy, typ)\u001b[0m\n\u001b[0;32m    322\u001b[0m     )\n\u001b[0;32m    323\u001b[0m \u001b[1;33m\u001b[0m\u001b[0m\n\u001b[1;32m--> 324\u001b[1;33m     \u001b[0m_check_values_indices_shape_match\u001b[0m\u001b[1;33m(\u001b[0m\u001b[0mvalues\u001b[0m\u001b[1;33m,\u001b[0m \u001b[0mindex\u001b[0m\u001b[1;33m,\u001b[0m \u001b[0mcolumns\u001b[0m\u001b[1;33m)\u001b[0m\u001b[1;33m\u001b[0m\u001b[1;33m\u001b[0m\u001b[0m\n\u001b[0m\u001b[0;32m    325\u001b[0m \u001b[1;33m\u001b[0m\u001b[0m\n\u001b[0;32m    326\u001b[0m     \u001b[1;32mif\u001b[0m \u001b[0mtyp\u001b[0m \u001b[1;33m==\u001b[0m \u001b[1;34m\"array\"\u001b[0m\u001b[1;33m:\u001b[0m\u001b[1;33m\u001b[0m\u001b[1;33m\u001b[0m\u001b[0m\n",
      "\u001b[1;32mD:\\Users\\Phillip\\anaconda3\\lib\\site-packages\\pandas\\core\\internals\\construction.py\u001b[0m in \u001b[0;36m_check_values_indices_shape_match\u001b[1;34m(values, index, columns)\u001b[0m\n\u001b[0;32m    391\u001b[0m         \u001b[0mpassed\u001b[0m \u001b[1;33m=\u001b[0m \u001b[0mvalues\u001b[0m\u001b[1;33m.\u001b[0m\u001b[0mshape\u001b[0m\u001b[1;33m\u001b[0m\u001b[1;33m\u001b[0m\u001b[0m\n\u001b[0;32m    392\u001b[0m         \u001b[0mimplied\u001b[0m \u001b[1;33m=\u001b[0m \u001b[1;33m(\u001b[0m\u001b[0mlen\u001b[0m\u001b[1;33m(\u001b[0m\u001b[0mindex\u001b[0m\u001b[1;33m)\u001b[0m\u001b[1;33m,\u001b[0m \u001b[0mlen\u001b[0m\u001b[1;33m(\u001b[0m\u001b[0mcolumns\u001b[0m\u001b[1;33m)\u001b[0m\u001b[1;33m)\u001b[0m\u001b[1;33m\u001b[0m\u001b[1;33m\u001b[0m\u001b[0m\n\u001b[1;32m--> 393\u001b[1;33m         \u001b[1;32mraise\u001b[0m \u001b[0mValueError\u001b[0m\u001b[1;33m(\u001b[0m\u001b[1;34mf\"Shape of passed values is {passed}, indices imply {implied}\"\u001b[0m\u001b[1;33m)\u001b[0m\u001b[1;33m\u001b[0m\u001b[1;33m\u001b[0m\u001b[0m\n\u001b[0m\u001b[0;32m    394\u001b[0m \u001b[1;33m\u001b[0m\u001b[0m\n\u001b[0;32m    395\u001b[0m \u001b[1;33m\u001b[0m\u001b[0m\n",
      "\u001b[1;31mValueError\u001b[0m: Shape of passed values is (5, 1), indices imply (5, 6)"
     ]
    }
   ],
   "source": [
    "df = pd.DataFrame(data, columns=id)\n",
    "\n",
    "df.head()"
   ]
  }
 ],
 "metadata": {
  "interpreter": {
   "hash": "36d5f7c48bedb4d3d321bc296b2ac9966e6c1466a4c35688050537ec673e2f81"
  },
  "kernelspec": {
   "display_name": "Python 3.9.7 ('base')",
   "language": "python",
   "name": "python3"
  },
  "language_info": {
   "codemirror_mode": {
    "name": "ipython",
    "version": 3
   },
   "file_extension": ".py",
   "mimetype": "text/x-python",
   "name": "python",
   "nbconvert_exporter": "python",
   "pygments_lexer": "ipython3",
   "version": "3.9.7"
  },
  "orig_nbformat": 4
 },
 "nbformat": 4,
 "nbformat_minor": 2
}
